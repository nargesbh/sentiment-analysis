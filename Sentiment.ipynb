{
 "cells": [
  {
   "cell_type": "markdown",
   "id": "cbdde91d",
   "metadata": {},
   "source": [
    "##### Babaahmadi-narges\n",
    "### Importing needed libraries"
   ]
  },
  {
   "cell_type": "code",
   "execution_count": 1,
   "id": "db5268df",
   "metadata": {},
   "outputs": [],
   "source": [
    "import pandas as pd\n",
    "import numpy as np\n",
    "import string\n",
    "import re\n",
    "import nltk\n",
    "from nltk import word_tokenize\n",
    "# from spellchecker import SpellChecker\n",
    "from nltk.stem import WordNetLemmatizer\n",
    "from nltk.corpus import stopwords\n",
    "from sklearn.feature_extraction.text import TfidfVectorizer\n",
    "from sklearn.model_selection import ShuffleSplit, cross_val_score\n",
    "from sklearn.naive_bayes import MultinomialNB\n",
    "from sklearn.linear_model import LinearRegression\n",
    "from sklearn.linear_model import LogisticRegression\n",
    "from sklearn.ensemble import RandomForestClassifier\n",
    "import matplotlib.pyplot as plt\n",
    "from sklearn.metrics import confusion_matrix, classification_report"
   ]
  },
  {
   "cell_type": "markdown",
   "id": "9288acc8",
   "metadata": {},
   "source": [
    "### Reading the dataset\n",
    "Here I read the dataset, But each tweet is not in one cell and it can be disturbed in different columns, and that's why I combined all pieces and converted my dataset such that each tweet is in one cell."
   ]
  },
  {
   "cell_type": "code",
   "execution_count": 2,
   "id": "09c72309",
   "metadata": {},
   "outputs": [
    {
     "data": {
      "text/html": [
       "<div>\n",
       "<style scoped>\n",
       "    .dataframe tbody tr th:only-of-type {\n",
       "        vertical-align: middle;\n",
       "    }\n",
       "\n",
       "    .dataframe tbody tr th {\n",
       "        vertical-align: top;\n",
       "    }\n",
       "\n",
       "    .dataframe thead th {\n",
       "        text-align: right;\n",
       "    }\n",
       "</style>\n",
       "<table border=\"1\" class=\"dataframe\">\n",
       "  <thead>\n",
       "    <tr style=\"text-align: right;\">\n",
       "      <th></th>\n",
       "      <th>label</th>\n",
       "      <th>tweet</th>\n",
       "    </tr>\n",
       "  </thead>\n",
       "  <tbody>\n",
       "    <tr>\n",
       "      <th>0</th>\n",
       "      <td>0</td>\n",
       "      <td>RT @cjwallace03: So apparently @apple put MB c...</td>\n",
       "    </tr>\n",
       "    <tr>\n",
       "      <th>1</th>\n",
       "      <td>0</td>\n",
       "      <td>RT @Jewelz2611 @mashable @apple iphones r 2 ex...</td>\n",
       "    </tr>\n",
       "    <tr>\n",
       "      <th>2</th>\n",
       "      <td>0</td>\n",
       "      <td>@mashable @apple iphones r 2 expensive. Most w...</td>\n",
       "    </tr>\n",
       "    <tr>\n",
       "      <th>3</th>\n",
       "      <td>0</td>\n",
       "      <td>THiS IS WHAT WiLL KiLL APPLE http://t.co/72Jw4...</td>\n",
       "    </tr>\n",
       "    <tr>\n",
       "      <th>4</th>\n",
       "      <td>4</td>\n",
       "      <td>Now all @Apple has to do is get swype on the i...</td>\n",
       "    </tr>\n",
       "  </tbody>\n",
       "</table>\n",
       "</div>"
      ],
      "text/plain": [
       "   label                                              tweet\n",
       "0      0  RT @cjwallace03: So apparently @apple put MB c...\n",
       "1      0  RT @Jewelz2611 @mashable @apple iphones r 2 ex...\n",
       "2      0  @mashable @apple iphones r 2 expensive. Most w...\n",
       "3      0  THiS IS WHAT WiLL KiLL APPLE http://t.co/72Jw4...\n",
       "4      4  Now all @Apple has to do is get swype on the i..."
      ]
     },
     "execution_count": 2,
     "metadata": {},
     "output_type": "execute_result"
    }
   ],
   "source": [
    "df = pd.read_csv(\"SandersPosNeg.csv\", header=None, sep=\"\\t\")\n",
    "df.rename(columns={0: \"label\", 1: \"tweet\"}, inplace=True)\n",
    "df.head()"
   ]
  },
  {
   "cell_type": "markdown",
   "id": "c6ff563b",
   "metadata": {},
   "source": [
    "### preprocessing\n",
    "Now it's time for cleaning the data.\\\n",
    "The first step is to **remove the punctutions and numbers**."
   ]
  },
  {
   "cell_type": "code",
   "execution_count": 3,
   "id": "a2f3f529",
   "metadata": {},
   "outputs": [],
   "source": [
    "def punctuation(tweet):\n",
    "    ret_tweet = \"\"\n",
    "    for i in tweet:\n",
    "        if (i not in string.punctuation) and (i not in \"0123456789\"):\n",
    "            ret_tweet+=i\n",
    "    return ret_tweet"
   ]
  },
  {
   "cell_type": "code",
   "execution_count": 4,
   "id": "26053c96",
   "metadata": {},
   "outputs": [
    {
     "data": {
      "text/html": [
       "<div>\n",
       "<style scoped>\n",
       "    .dataframe tbody tr th:only-of-type {\n",
       "        vertical-align: middle;\n",
       "    }\n",
       "\n",
       "    .dataframe tbody tr th {\n",
       "        vertical-align: top;\n",
       "    }\n",
       "\n",
       "    .dataframe thead th {\n",
       "        text-align: right;\n",
       "    }\n",
       "</style>\n",
       "<table border=\"1\" class=\"dataframe\">\n",
       "  <thead>\n",
       "    <tr style=\"text-align: right;\">\n",
       "      <th></th>\n",
       "      <th>label</th>\n",
       "      <th>tweet</th>\n",
       "    </tr>\n",
       "  </thead>\n",
       "  <tbody>\n",
       "    <tr>\n",
       "      <th>0</th>\n",
       "      <td>0</td>\n",
       "      <td>RT cjwallace So apparently apple put MB cap on...</td>\n",
       "    </tr>\n",
       "    <tr>\n",
       "      <th>1</th>\n",
       "      <td>0</td>\n",
       "      <td>RT Jewelz mashable apple iphones r  expensive ...</td>\n",
       "    </tr>\n",
       "    <tr>\n",
       "      <th>2</th>\n",
       "      <td>0</td>\n",
       "      <td>mashable apple iphones r  expensive Most went ...</td>\n",
       "    </tr>\n",
       "    <tr>\n",
       "      <th>3</th>\n",
       "      <td>0</td>\n",
       "      <td>THiS IS WHAT WiLL KiLL APPLE httptcoJwzc RiP A...</td>\n",
       "    </tr>\n",
       "    <tr>\n",
       "      <th>4</th>\n",
       "      <td>4</td>\n",
       "      <td>Now all Apple has to do is get swype on the ip...</td>\n",
       "    </tr>\n",
       "  </tbody>\n",
       "</table>\n",
       "</div>"
      ],
      "text/plain": [
       "   label                                              tweet\n",
       "0      0  RT cjwallace So apparently apple put MB cap on...\n",
       "1      0  RT Jewelz mashable apple iphones r  expensive ...\n",
       "2      0  mashable apple iphones r  expensive Most went ...\n",
       "3      0  THiS IS WHAT WiLL KiLL APPLE httptcoJwzc RiP A...\n",
       "4      4  Now all Apple has to do is get swype on the ip..."
      ]
     },
     "execution_count": 4,
     "metadata": {},
     "output_type": "execute_result"
    }
   ],
   "source": [
    "df['tweet']= df['tweet'].apply(punctuation)\n",
    "df.head()"
   ]
  },
  {
   "cell_type": "markdown",
   "id": "a77e5f3d",
   "metadata": {},
   "source": [
    "The next step is to **convert all letters into lowercase**.\\\n",
    "I do this to avoid counting one word multiple times as different words."
   ]
  },
  {
   "cell_type": "code",
   "execution_count": 5,
   "id": "d2110ce0",
   "metadata": {},
   "outputs": [
    {
     "data": {
      "text/html": [
       "<div>\n",
       "<style scoped>\n",
       "    .dataframe tbody tr th:only-of-type {\n",
       "        vertical-align: middle;\n",
       "    }\n",
       "\n",
       "    .dataframe tbody tr th {\n",
       "        vertical-align: top;\n",
       "    }\n",
       "\n",
       "    .dataframe thead th {\n",
       "        text-align: right;\n",
       "    }\n",
       "</style>\n",
       "<table border=\"1\" class=\"dataframe\">\n",
       "  <thead>\n",
       "    <tr style=\"text-align: right;\">\n",
       "      <th></th>\n",
       "      <th>label</th>\n",
       "      <th>tweet</th>\n",
       "    </tr>\n",
       "  </thead>\n",
       "  <tbody>\n",
       "    <tr>\n",
       "      <th>0</th>\n",
       "      <td>0</td>\n",
       "      <td>rt cjwallace so apparently apple put mb cap on...</td>\n",
       "    </tr>\n",
       "    <tr>\n",
       "      <th>1</th>\n",
       "      <td>0</td>\n",
       "      <td>rt jewelz mashable apple iphones r  expensive ...</td>\n",
       "    </tr>\n",
       "    <tr>\n",
       "      <th>2</th>\n",
       "      <td>0</td>\n",
       "      <td>mashable apple iphones r  expensive most went ...</td>\n",
       "    </tr>\n",
       "    <tr>\n",
       "      <th>3</th>\n",
       "      <td>0</td>\n",
       "      <td>this is what will kill apple httptcojwzc rip a...</td>\n",
       "    </tr>\n",
       "    <tr>\n",
       "      <th>4</th>\n",
       "      <td>4</td>\n",
       "      <td>now all apple has to do is get swype on the ip...</td>\n",
       "    </tr>\n",
       "  </tbody>\n",
       "</table>\n",
       "</div>"
      ],
      "text/plain": [
       "   label                                              tweet\n",
       "0      0  rt cjwallace so apparently apple put mb cap on...\n",
       "1      0  rt jewelz mashable apple iphones r  expensive ...\n",
       "2      0  mashable apple iphones r  expensive most went ...\n",
       "3      0  this is what will kill apple httptcojwzc rip a...\n",
       "4      4  now all apple has to do is get swype on the ip..."
      ]
     },
     "execution_count": 5,
     "metadata": {},
     "output_type": "execute_result"
    }
   ],
   "source": [
    "df['tweet']= df['tweet'].apply(lambda x: x.lower())\n",
    "df.head()"
   ]
  },
  {
   "cell_type": "markdown",
   "id": "c017e114",
   "metadata": {},
   "source": [
    "**Removing extra whitespace** step:"
   ]
  },
  {
   "cell_type": "code",
   "execution_count": 6,
   "id": "e818a010",
   "metadata": {},
   "outputs": [],
   "source": [
    "def whitespace(tweet):\n",
    "    return  \" \".join(tweet.split())"
   ]
  },
  {
   "cell_type": "code",
   "execution_count": 7,
   "id": "d4c1e473",
   "metadata": {},
   "outputs": [
    {
     "data": {
      "text/html": [
       "<div>\n",
       "<style scoped>\n",
       "    .dataframe tbody tr th:only-of-type {\n",
       "        vertical-align: middle;\n",
       "    }\n",
       "\n",
       "    .dataframe tbody tr th {\n",
       "        vertical-align: top;\n",
       "    }\n",
       "\n",
       "    .dataframe thead th {\n",
       "        text-align: right;\n",
       "    }\n",
       "</style>\n",
       "<table border=\"1\" class=\"dataframe\">\n",
       "  <thead>\n",
       "    <tr style=\"text-align: right;\">\n",
       "      <th></th>\n",
       "      <th>label</th>\n",
       "      <th>tweet</th>\n",
       "    </tr>\n",
       "  </thead>\n",
       "  <tbody>\n",
       "    <tr>\n",
       "      <th>0</th>\n",
       "      <td>0</td>\n",
       "      <td>rt cjwallace so apparently apple put mb cap on...</td>\n",
       "    </tr>\n",
       "    <tr>\n",
       "      <th>1</th>\n",
       "      <td>0</td>\n",
       "      <td>rt jewelz mashable apple iphones r expensive m...</td>\n",
       "    </tr>\n",
       "    <tr>\n",
       "      <th>2</th>\n",
       "      <td>0</td>\n",
       "      <td>mashable apple iphones r expensive most went w...</td>\n",
       "    </tr>\n",
       "    <tr>\n",
       "      <th>3</th>\n",
       "      <td>0</td>\n",
       "      <td>this is what will kill apple httptcojwzc rip a...</td>\n",
       "    </tr>\n",
       "    <tr>\n",
       "      <th>4</th>\n",
       "      <td>4</td>\n",
       "      <td>now all apple has to do is get swype on the ip...</td>\n",
       "    </tr>\n",
       "  </tbody>\n",
       "</table>\n",
       "</div>"
      ],
      "text/plain": [
       "   label                                              tweet\n",
       "0      0  rt cjwallace so apparently apple put mb cap on...\n",
       "1      0  rt jewelz mashable apple iphones r expensive m...\n",
       "2      0  mashable apple iphones r expensive most went w...\n",
       "3      0  this is what will kill apple httptcojwzc rip a...\n",
       "4      4  now all apple has to do is get swype on the ip..."
      ]
     },
     "execution_count": 7,
     "metadata": {},
     "output_type": "execute_result"
    }
   ],
   "source": [
    "df['tweet']=df['tweet'].apply(whitespace)\n",
    "df.head()"
   ]
  },
  {
   "cell_type": "markdown",
   "id": "52f7bcdc",
   "metadata": {},
   "source": [
    "The next step is to **tokenize** all tweets:\\\n",
    "Tokenization is the process of splitting text into pieces called tokens.\\\n",
    "I did tokenization using nltk library."
   ]
  },
  {
   "cell_type": "code",
   "execution_count": 8,
   "id": "e0f8d6af",
   "metadata": {},
   "outputs": [
    {
     "data": {
      "text/html": [
       "<div>\n",
       "<style scoped>\n",
       "    .dataframe tbody tr th:only-of-type {\n",
       "        vertical-align: middle;\n",
       "    }\n",
       "\n",
       "    .dataframe tbody tr th {\n",
       "        vertical-align: top;\n",
       "    }\n",
       "\n",
       "    .dataframe thead th {\n",
       "        text-align: right;\n",
       "    }\n",
       "</style>\n",
       "<table border=\"1\" class=\"dataframe\">\n",
       "  <thead>\n",
       "    <tr style=\"text-align: right;\">\n",
       "      <th></th>\n",
       "      <th>label</th>\n",
       "      <th>tweet</th>\n",
       "    </tr>\n",
       "  </thead>\n",
       "  <tbody>\n",
       "    <tr>\n",
       "      <th>0</th>\n",
       "      <td>0</td>\n",
       "      <td>[rt, cjwallace, so, apparently, apple, put, mb...</td>\n",
       "    </tr>\n",
       "    <tr>\n",
       "      <th>1</th>\n",
       "      <td>0</td>\n",
       "      <td>[rt, jewelz, mashable, apple, iphones, r, expe...</td>\n",
       "    </tr>\n",
       "    <tr>\n",
       "      <th>2</th>\n",
       "      <td>0</td>\n",
       "      <td>[mashable, apple, iphones, r, expensive, most,...</td>\n",
       "    </tr>\n",
       "    <tr>\n",
       "      <th>3</th>\n",
       "      <td>0</td>\n",
       "      <td>[this, is, what, will, kill, apple, httptcojwz...</td>\n",
       "    </tr>\n",
       "    <tr>\n",
       "      <th>4</th>\n",
       "      <td>4</td>\n",
       "      <td>[now, all, apple, has, to, do, is, get, swype,...</td>\n",
       "    </tr>\n",
       "  </tbody>\n",
       "</table>\n",
       "</div>"
      ],
      "text/plain": [
       "   label                                              tweet\n",
       "0      0  [rt, cjwallace, so, apparently, apple, put, mb...\n",
       "1      0  [rt, jewelz, mashable, apple, iphones, r, expe...\n",
       "2      0  [mashable, apple, iphones, r, expensive, most,...\n",
       "3      0  [this, is, what, will, kill, apple, httptcojwz...\n",
       "4      4  [now, all, apple, has, to, do, is, get, swype,..."
      ]
     },
     "execution_count": 8,
     "metadata": {},
     "output_type": "execute_result"
    }
   ],
   "source": [
    "df['tweet']=df['tweet'].apply(lambda X: word_tokenize(X))\n",
    "df.head()"
   ]
  },
  {
   "cell_type": "markdown",
   "id": "007f6f3d",
   "metadata": {},
   "source": [
    "One important step in preprocessing is to **remove the stop words**.\\\n",
    "Stop words are a set of commonly used words in a language than don't really effect our answers.\\\n",
    "some examples of stop words are:\n",
    "* i\n",
    "* me\n",
    "* we\n",
    "* you"
   ]
  },
  {
   "cell_type": "code",
   "execution_count": 9,
   "id": "b43ce2c4",
   "metadata": {},
   "outputs": [],
   "source": [
    "def stopwords_f(tweet):\n",
    "    return_array = []\n",
    "    for t in tweet:\n",
    "        if t not in stopwords_a:\n",
    "            return_array.append(t)\n",
    "            \n",
    "    return return_array\n",
    "stopwords_a = stopwords.words('english')"
   ]
  },
  {
   "cell_type": "code",
   "execution_count": 10,
   "id": "ee576de7",
   "metadata": {},
   "outputs": [
    {
     "data": {
      "text/html": [
       "<div>\n",
       "<style scoped>\n",
       "    .dataframe tbody tr th:only-of-type {\n",
       "        vertical-align: middle;\n",
       "    }\n",
       "\n",
       "    .dataframe tbody tr th {\n",
       "        vertical-align: top;\n",
       "    }\n",
       "\n",
       "    .dataframe thead th {\n",
       "        text-align: right;\n",
       "    }\n",
       "</style>\n",
       "<table border=\"1\" class=\"dataframe\">\n",
       "  <thead>\n",
       "    <tr style=\"text-align: right;\">\n",
       "      <th></th>\n",
       "      <th>label</th>\n",
       "      <th>tweet</th>\n",
       "    </tr>\n",
       "  </thead>\n",
       "  <tbody>\n",
       "    <tr>\n",
       "      <th>0</th>\n",
       "      <td>0</td>\n",
       "      <td>[rt, cjwallace, apparently, apple, put, mb, ca...</td>\n",
       "    </tr>\n",
       "    <tr>\n",
       "      <th>1</th>\n",
       "      <td>0</td>\n",
       "      <td>[rt, jewelz, mashable, apple, iphones, r, expe...</td>\n",
       "    </tr>\n",
       "    <tr>\n",
       "      <th>2</th>\n",
       "      <td>0</td>\n",
       "      <td>[mashable, apple, iphones, r, expensive, went,...</td>\n",
       "    </tr>\n",
       "    <tr>\n",
       "      <th>3</th>\n",
       "      <td>0</td>\n",
       "      <td>[kill, apple, httptcojwzc, rip, apple]</td>\n",
       "    </tr>\n",
       "    <tr>\n",
       "      <th>4</th>\n",
       "      <td>4</td>\n",
       "      <td>[apple, get, swype, iphone, crack, iphone]</td>\n",
       "    </tr>\n",
       "  </tbody>\n",
       "</table>\n",
       "</div>"
      ],
      "text/plain": [
       "   label                                              tweet\n",
       "0      0  [rt, cjwallace, apparently, apple, put, mb, ca...\n",
       "1      0  [rt, jewelz, mashable, apple, iphones, r, expe...\n",
       "2      0  [mashable, apple, iphones, r, expensive, went,...\n",
       "3      0             [kill, apple, httptcojwzc, rip, apple]\n",
       "4      4         [apple, get, swype, iphone, crack, iphone]"
      ]
     },
     "execution_count": 10,
     "metadata": {},
     "output_type": "execute_result"
    }
   ],
   "source": [
    "df['tweet']=df['tweet'].apply(lambda X: stopwords_f(X))\n",
    "df.head()"
   ]
  },
  {
   "cell_type": "markdown",
   "id": "c80bd754",
   "metadata": {},
   "source": [
    "Now it's time for **Stemming** and **Lemmatization**.\\\n",
    "Stemming means to cut off the end or the beginning of the word, taking into account a list of common prefixes and suffixes that can be found in an inflected word.\\\n",
    "Lemization, unlike Stemming, reduces the inflected words properly ensuring that the root word belongs to the language.\\\n",
    "I used lemmatization here."
   ]
  },
  {
   "cell_type": "code",
   "execution_count": 11,
   "id": "2a92e9c5",
   "metadata": {},
   "outputs": [],
   "source": [
    "def lemmatization(tweet):\n",
    "    wordnet_lemmatizer = WordNetLemmatizer()\n",
    "    \n",
    "    lemmatize_words = np.vectorize(wordnet_lemmatizer.lemmatize)\n",
    "    lemmatized_array = lemmatize_words(tweet)\n",
    "    \n",
    "    return lemmatized_array"
   ]
  },
  {
   "cell_type": "code",
   "execution_count": 12,
   "id": "4932de12",
   "metadata": {},
   "outputs": [
    {
     "data": {
      "text/html": [
       "<div>\n",
       "<style scoped>\n",
       "    .dataframe tbody tr th:only-of-type {\n",
       "        vertical-align: middle;\n",
       "    }\n",
       "\n",
       "    .dataframe tbody tr th {\n",
       "        vertical-align: top;\n",
       "    }\n",
       "\n",
       "    .dataframe thead th {\n",
       "        text-align: right;\n",
       "    }\n",
       "</style>\n",
       "<table border=\"1\" class=\"dataframe\">\n",
       "  <thead>\n",
       "    <tr style=\"text-align: right;\">\n",
       "      <th></th>\n",
       "      <th>label</th>\n",
       "      <th>tweet</th>\n",
       "    </tr>\n",
       "  </thead>\n",
       "  <tbody>\n",
       "    <tr>\n",
       "      <th>0</th>\n",
       "      <td>0</td>\n",
       "      <td>[rt, cjwallace, apparently, apple, put, mb, ca...</td>\n",
       "    </tr>\n",
       "    <tr>\n",
       "      <th>1</th>\n",
       "      <td>0</td>\n",
       "      <td>[rt, jewelz, mashable, apple, iphones, r, expe...</td>\n",
       "    </tr>\n",
       "    <tr>\n",
       "      <th>2</th>\n",
       "      <td>0</td>\n",
       "      <td>[mashable, apple, iphones, r, expensive, went,...</td>\n",
       "    </tr>\n",
       "    <tr>\n",
       "      <th>3</th>\n",
       "      <td>0</td>\n",
       "      <td>[kill, apple, httptcojwzc, rip, apple]</td>\n",
       "    </tr>\n",
       "    <tr>\n",
       "      <th>4</th>\n",
       "      <td>4</td>\n",
       "      <td>[apple, get, swype, iphone, crack, iphone]</td>\n",
       "    </tr>\n",
       "  </tbody>\n",
       "</table>\n",
       "</div>"
      ],
      "text/plain": [
       "   label                                              tweet\n",
       "0      0  [rt, cjwallace, apparently, apple, put, mb, ca...\n",
       "1      0  [rt, jewelz, mashable, apple, iphones, r, expe...\n",
       "2      0  [mashable, apple, iphones, r, expensive, went,...\n",
       "3      0             [kill, apple, httptcojwzc, rip, apple]\n",
       "4      4         [apple, get, swype, iphone, crack, iphone]"
      ]
     },
     "execution_count": 12,
     "metadata": {},
     "output_type": "execute_result"
    }
   ],
   "source": [
    "df['tweet']=df['tweet'].apply(lambda X: lemmatization(X))\n",
    "df.head()"
   ]
  },
  {
   "cell_type": "markdown",
   "id": "40ec04fa",
   "metadata": {},
   "source": [
    "#### TFIDF vectorication:\n",
    "As you can see tweet column includes array. I first have to convert it to string."
   ]
  },
  {
   "cell_type": "code",
   "execution_count": 13,
   "id": "4b86e39d",
   "metadata": {},
   "outputs": [],
   "source": [
    "def string_maker(tweet):\n",
    "    new = ' '.join(tweet)\n",
    "    return new"
   ]
  },
  {
   "cell_type": "code",
   "execution_count": 14,
   "id": "d3e97561",
   "metadata": {},
   "outputs": [
    {
     "data": {
      "text/html": [
       "<div>\n",
       "<style scoped>\n",
       "    .dataframe tbody tr th:only-of-type {\n",
       "        vertical-align: middle;\n",
       "    }\n",
       "\n",
       "    .dataframe tbody tr th {\n",
       "        vertical-align: top;\n",
       "    }\n",
       "\n",
       "    .dataframe thead th {\n",
       "        text-align: right;\n",
       "    }\n",
       "</style>\n",
       "<table border=\"1\" class=\"dataframe\">\n",
       "  <thead>\n",
       "    <tr style=\"text-align: right;\">\n",
       "      <th></th>\n",
       "      <th>label</th>\n",
       "      <th>tweet</th>\n",
       "    </tr>\n",
       "  </thead>\n",
       "  <tbody>\n",
       "    <tr>\n",
       "      <th>0</th>\n",
       "      <td>0</td>\n",
       "      <td>rt cjwallace apparently apple put mb cap sm ne...</td>\n",
       "    </tr>\n",
       "    <tr>\n",
       "      <th>1</th>\n",
       "      <td>0</td>\n",
       "      <td>rt jewelz mashable apple iphones r expensive w...</td>\n",
       "    </tr>\n",
       "    <tr>\n",
       "      <th>2</th>\n",
       "      <td>0</td>\n",
       "      <td>mashable apple iphones r expensive went w htcg...</td>\n",
       "    </tr>\n",
       "    <tr>\n",
       "      <th>3</th>\n",
       "      <td>0</td>\n",
       "      <td>kill apple httptcojwzc rip apple</td>\n",
       "    </tr>\n",
       "    <tr>\n",
       "      <th>4</th>\n",
       "      <td>4</td>\n",
       "      <td>apple get swype iphone crack iphone</td>\n",
       "    </tr>\n",
       "  </tbody>\n",
       "</table>\n",
       "</div>"
      ],
      "text/plain": [
       "   label                                              tweet\n",
       "0      0  rt cjwallace apparently apple put mb cap sm ne...\n",
       "1      0  rt jewelz mashable apple iphones r expensive w...\n",
       "2      0  mashable apple iphones r expensive went w htcg...\n",
       "3      0                   kill apple httptcojwzc rip apple\n",
       "4      4                apple get swype iphone crack iphone"
      ]
     },
     "execution_count": 14,
     "metadata": {},
     "output_type": "execute_result"
    }
   ],
   "source": [
    "df['tweet']=df['tweet'].apply(lambda X: string_maker(X))\n",
    "df.head()"
   ]
  },
  {
   "cell_type": "markdown",
   "id": "fe40273f",
   "metadata": {},
   "source": [
    "Now I can do tfidf vectorization."
   ]
  },
  {
   "cell_type": "code",
   "execution_count": 15,
   "id": "f4411d9e",
   "metadata": {},
   "outputs": [],
   "source": [
    "vectorizer = TfidfVectorizer()\n",
    "X_1 = vectorizer.fit_transform(df['tweet'])\n",
    "y_1 = df['label']"
   ]
  },
  {
   "cell_type": "code",
   "execution_count": 16,
   "id": "2e7689eb",
   "metadata": {},
   "outputs": [
    {
     "data": {
      "image/png": "[encoded data removed]",
      "text/plain": [
       "<Figure size 600x400 with 1 Axes>"
      ]
     },
     "metadata": {},
     "output_type": "display_data"
    }
   ],
   "source": [
    "# Cell 10: Visualization - Sentiment Distribution\n",
    "sentiment_distribution = df['label'].value_counts()\n",
    "plt.figure(figsize=(6, 4))\n",
    "sentiment_distribution.plot(kind='bar', color=['#D3D3D3', '#FFC0CB'])\n",
    "plt.title('Sentiment Distribution')\n",
    "plt.xlabel('Sentiment')\n",
    "plt.ylabel('Count')\n",
    "plt.xticks(rotation=0)\n",
    "plt.show()"
   ]
  },
  {
   "cell_type": "markdown",
   "id": "8d7e9d31",
   "metadata": {},
   "source": [
    "### Training Models:\n"
   ]
  },
  {
   "cell_type": "markdown",
   "id": "59aeb306",
   "metadata": {},
   "source": [
    "#### Naive Bayes Function:"
   ]
  },
  {
   "cell_type": "code",
   "execution_count": 17,
   "id": "71d349c6",
   "metadata": {},
   "outputs": [],
   "source": [
    "from sklearn.model_selection import ShuffleSplit, cross_val_score, train_test_split\n",
    "from sklearn.naive_bayes import MultinomialNB\n",
    "from sklearn.metrics import accuracy_score\n",
    "\n",
    "def train_multinomial_naive_bayes_classifier(X, y, n_splits, test_size, random_state):\n",
    "    # Initialize a Multinomial Naive Bayes classifier\n",
    "    clf = MultinomialNB()\n",
    "\n",
    "    # Initialize a ShuffleSplit cross-validation object\n",
    "    cross_validation = ShuffleSplit(n_splits=n_splits, test_size=test_size, random_state=random_state)\n",
    "\n",
    "    # Split the data into training and test sets\n",
    "    X_train, X_test, y_train, y_test = train_test_split(X, y, test_size=0.2, random_state=random_state)\n",
    "    clf.fit(X_train, y_train)\n",
    "\n",
    "    # Make predictions on the training set\n",
    "    y_train_pred = clf.predict(X_train)\n",
    "    train_accuracy_NB = accuracy_score(y_train, y_train_pred)\n",
    "\n",
    "    # Make predictions on the test set\n",
    "    y_test_pred = clf.predict(X_test)\n",
    "    test_accuracy_NB = accuracy_score(y_test, y_test_pred)\n",
    "\n",
    "    # Use cross-validation to calculate the mean accuracy\n",
    "    cross_val_scores = cross_val_score(clf, X, y, cv=cross_validation)\n",
    "    cross_val_accuracy_NB = cross_val_scores.mean()\n",
    "    \n",
    "    return train_accuracy_NB * 100,  test_accuracy_NB * 100, cross_val_accuracy_NB * 100\n",
    "\n"
   ]
  },
  {
   "cell_type": "markdown",
   "id": "79353c77",
   "metadata": {},
   "source": [
    "#### Logistic Regression Function"
   ]
  },
  {
   "cell_type": "code",
   "execution_count": 18,
   "id": "ed4b3b30",
   "metadata": {},
   "outputs": [],
   "source": [
    "\n",
    "def train_logistic_regression_classifier(X, y, max_iter, random_state, n_splits, test_size):\n",
    "    # Initialize a Logistic Regression model\n",
    "    clf_lr = LogisticRegression(max_iter=max_iter, random_state=random_state)\n",
    "\n",
    "    cross_validation = ShuffleSplit(n_splits=n_splits, test_size=test_size, random_state=0)\n",
    "\n",
    "    # Split the data into training and test sets\n",
    "    X_train, X_test, y_train, y_test = train_test_split(X, y, test_size=0.2, random_state=random_state)\n",
    "    clf_lr.fit(X_train, y_train)\n",
    "\n",
    "    y_train_pred = clf_lr.predict(X_train)\n",
    "    train_accuracy_LR = accuracy_score(y_train, y_train_pred)\n",
    "\n",
    "    y_test_pred = clf_lr.predict(X_test)\n",
    "    test_accuracy_LR = accuracy_score(y_test, y_test_pred)\n",
    "\n",
    "    # Use cross-validation to calculate the mean accuracy\n",
    "    cross_val_scores = cross_val_score(clf_lr, X, y, cv=cross_validation)\n",
    "    cross_val_accuracy_LR = cross_val_scores.mean()\n",
    "    \n",
    "    return train_accuracy_LR * 100, test_accuracy_LR * 100, cross_val_accuracy_LR * 100\n"
   ]
  },
  {
   "cell_type": "markdown",
   "id": "daad513f",
   "metadata": {},
   "source": [
    "#### Random Forest Function:"
   ]
  },
  {
   "cell_type": "code",
   "execution_count": 19,
   "id": "1994ed1a",
   "metadata": {},
   "outputs": [],
   "source": [
    "\n",
    "def train_random_forest_classifier(X, y, n_splits, random_state, n_estimators, max_depth, min_samples_leaf, test_size):\n",
    "    # Initialize a Random Forest model\n",
    "    clf_rf = RandomForestClassifier(random_state=random_state, n_estimators=n_estimators, max_depth=max_depth, min_samples_leaf=min_samples_leaf)\n",
    "\n",
    "    cross_validation = ShuffleSplit(n_splits=n_splits, test_size=test_size, random_state=0)\n",
    "\n",
    "    # Split the data into training and test sets\n",
    "    X_train, X_test, y_train, y_test = train_test_split(X, y, test_size=0.2, random_state=random_state)\n",
    "    clf_rf.fit(X_train, y_train)\n",
    "\n",
    "    y_train_pred = clf_rf.predict(X_train)\n",
    "    train_accuracy_RF = accuracy_score(y_train, y_train_pred)\n",
    "\n",
    "    y_test_pred = clf_rf.predict(X_test)\n",
    "    test_accuracy_RF = accuracy_score(y_test, y_test_pred)\n",
    "\n",
    "    # Use cross-validation to calculate the mean accuracy\n",
    "    cross_val_scores = cross_val_score(clf_rf, X, y, cv=cross_validation)\n",
    "    cross_val_accuracy_RF = cross_val_scores.mean()\n",
    "    \n",
    "    return train_accuracy_RF * 100, test_accuracy_RF * 100,  cross_val_accuracy_RF * 100"
   ]
  },
  {
   "cell_type": "markdown",
   "id": "11d8d2c2",
   "metadata": {},
   "source": [
    "#### Function to Plot Results:"
   ]
  },
  {
   "cell_type": "code",
   "execution_count": 20,
   "id": "89d59c5b",
   "metadata": {},
   "outputs": [],
   "source": [
    "import matplotlib.pyplot as plt\n",
    "import numpy as np\n",
    "\n",
    "def plot_model_comparison(models, train_scores, cross_val_scores, test_scores, colors=None):\n",
    "    if colors is None:\n",
    "        # Default colors\n",
    "        colors = ['#ADD8E6', '#D3D3D3', '#FFC0CB']  # Light blue, light grey, light pink\n",
    "    \n",
    "    # Bar chart\n",
    "    bar_width = 0.2  # Adjusted bar width\n",
    "    index = np.arange(len(models))\n",
    "\n",
    "    plt.figure(figsize=(8, 4))\n",
    "    plt.bar(index - bar_width, train_scores, bar_width, label='Train accuracy', color=colors[0], alpha=0.7)\n",
    "    plt.bar(index, cross_val_scores, bar_width, label='Cross-Val score', color=colors[1], alpha=0.7)\n",
    "    plt.bar(index + bar_width, test_scores, bar_width, label='Test accuracy', color=colors[2], alpha=0.7)\n",
    "\n",
    "    plt.xlabel('Models')\n",
    "    plt.ylabel('Accuracy (%)')\n",
    "    plt.title('Model Comparison - Training, Cross-Validation Score, and Test Accuracy')\n",
    "    plt.xticks(index, models)\n",
    "    plt.legend(loc='lower right')\n",
    "\n",
    "    plt.tight_layout()\n",
    "    plt.show()\n",
    "\n",
    "# Example usage:\n",
    "# plot_model_comparison(models, train_scores, cross_val_scores, test_scores)\n"
   ]
  },
  {
   "cell_type": "markdown",
   "id": "bea29f4e",
   "metadata": {},
   "source": [
    "Naive Bayes Results:"
   ]
  },
  {
   "cell_type": "code",
   "execution_count": 21,
   "id": "0d40a0c6",
   "metadata": {},
   "outputs": [
    {
     "name": "stdout",
     "output_type": "stream",
     "text": [
      "Training Accuracy: 96.8335035750766\n",
      "Test Accuracy: 84.89795918367346\n",
      "Cross-Validation Accuracy: 82.47734138972808\n"
     ]
    }
   ],
   "source": [
    "train_accuracy_NB, test_accuracy_NB, cross_val_accuracy_NB = train_multinomial_naive_bayes_classifier(X_1, y_1, n_splits=10, test_size=0.27, random_state=0)\n",
    "\n",
    "print('Training Accuracy:', train_accuracy_NB)\n",
    "print('Test Accuracy:', test_accuracy_NB)\n",
    "print('Cross-Validation Accuracy:', cross_val_accuracy_NB)"
   ]
  },
  {
   "cell_type": "markdown",
   "id": "2f3281a3",
   "metadata": {},
   "source": [
    "Logistic Regression Results:"
   ]
  },
  {
   "cell_type": "code",
   "execution_count": 22,
   "id": "38f1414e",
   "metadata": {},
   "outputs": [
    {
     "name": "stdout",
     "output_type": "stream",
     "text": [
      "Training Accuracy: 94.58631256384066\n",
      "Test Accuracy: 80.40816326530611\n",
      "Cross-Validation Accuracy: 79.54682779456192\n"
     ]
    }
   ],
   "source": [
    "train_accuracy_LR, test_accuracy_LR, cross_val_accuracy_LR = train_logistic_regression_classifier(X_1, y_1, max_iter=1000, random_state=42, n_splits=10, test_size=0.27)\n",
    "\n",
    "print('Training Accuracy:', train_accuracy_LR)\n",
    "print('Test Accuracy:', test_accuracy_LR)\n",
    "print('Cross-Validation Accuracy:', cross_val_accuracy_LR)\n"
   ]
  },
  {
   "cell_type": "markdown",
   "id": "82439d16",
   "metadata": {},
   "source": [
    "Random Forest Results:"
   ]
  },
  {
   "cell_type": "code",
   "execution_count": 23,
   "id": "04c4f7c2",
   "metadata": {},
   "outputs": [
    {
     "name": "stdout",
     "output_type": "stream",
     "text": [
      "Training Accuracy: 89.27477017364657\n",
      "Test Accuracy: 79.59183673469387\n",
      "Cross-Validation Accuracy: 77.82477341389729\n"
     ]
    }
   ],
   "source": [
    "train_accuracy_RF, test_accuracy_RF, cross_val_accuracy_RF =  train_random_forest_classifier(X_1, y_1, n_splits=10, random_state=30, n_estimators=1000, max_depth=50, min_samples_leaf=2, test_size=0.27)\n",
    "\n",
    "print('Training Accuracy:', train_accuracy_RF)\n",
    "print('Test Accuracy:', test_accuracy_RF)\n",
    "print('Cross-Validation Accuracy:', cross_val_accuracy_RF)"
   ]
  },
  {
   "cell_type": "code",
   "execution_count": 33,
   "id": "0287d506",
   "metadata": {},
   "outputs": [
    {
     "data": {
      "image/png": "[encoded data removed]",
      "text/plain": [
       "<Figure size 800x400 with 1 Axes>"
      ]
     },
     "metadata": {},
     "output_type": "display_data"
    }
   ],
   "source": [
    "# Accuracy scores for each model and dataset\n",
    "models = ['Naive Bayes', 'Logistic Regression', 'Random Forest']\n",
    "train_scores = [train_accuracy_NB , train_accuracy_LR , train_accuracy_RF ]\n",
    "cross_val_scores = [cross_val_accuracy_NB , cross_val_accuracy_LR , cross_val_accuracy_RF ]\n",
    "test_scores = [test_accuracy_NB , test_accuracy_LR , test_accuracy_RF ]\n",
    "\n",
    "# Define custom colors\n",
    "colors = ['#ADD8E6', '#D3D3D3', '#FFC0CB']  # Light blue, light grey, light pink\n",
    "\n",
    "\n",
    "plot_model_comparison(models, train_scores, cross_val_scores, test_scores, colors=None)\n"
   ]
  },
  {
   "cell_type": "markdown",
   "id": "c55865ef",
   "metadata": {},
   "source": [
    "### Doing the same steps for OMD"
   ]
  },
  {
   "cell_type": "code",
   "execution_count": 25,
   "id": "9f0f719c",
   "metadata": {},
   "outputs": [
    {
     "data": {
      "text/html": [
       "<div>\n",
       "<style scoped>\n",
       "    .dataframe tbody tr th:only-of-type {\n",
       "        vertical-align: middle;\n",
       "    }\n",
       "\n",
       "    .dataframe tbody tr th {\n",
       "        vertical-align: top;\n",
       "    }\n",
       "\n",
       "    .dataframe thead th {\n",
       "        text-align: right;\n",
       "    }\n",
       "</style>\n",
       "<table border=\"1\" class=\"dataframe\">\n",
       "  <thead>\n",
       "    <tr style=\"text-align: right;\">\n",
       "      <th></th>\n",
       "      <th>tweet</th>\n",
       "    </tr>\n",
       "  </thead>\n",
       "  <tbody>\n",
       "    <tr>\n",
       "      <th>0</th>\n",
       "      <td>0,Watching by myself  #tweetdebate Not drinkin...</td>\n",
       "    </tr>\n",
       "    <tr>\n",
       "      <th>1</th>\n",
       "      <td>0,@ahg3 @MichDot Yeah, slime was actually my s...</td>\n",
       "    </tr>\n",
       "    <tr>\n",
       "      <th>2</th>\n",
       "      <td>0,Preparing to have a heart attack #tweetdebate,</td>\n",
       "    </tr>\n",
       "    <tr>\n",
       "      <th>3</th>\n",
       "      <td>0,no debate moderators under 50, sorry  #tweet...</td>\n",
       "    </tr>\n",
       "    <tr>\n",
       "      <th>4</th>\n",
       "      <td>0,@current Now staring at black screen on http...</td>\n",
       "    </tr>\n",
       "  </tbody>\n",
       "</table>\n",
       "</div>"
      ],
      "text/plain": [
       "                                               tweet\n",
       "0  0,Watching by myself  #tweetdebate Not drinkin...\n",
       "1  0,@ahg3 @MichDot Yeah, slime was actually my s...\n",
       "2   0,Preparing to have a heart attack #tweetdebate,\n",
       "3  0,no debate moderators under 50, sorry  #tweet...\n",
       "4  0,@current Now staring at black screen on http..."
      ]
     },
     "execution_count": 25,
     "metadata": {},
     "output_type": "execute_result"
    }
   ],
   "source": [
    "df2 = pd.read_csv(\"OMD.csv\", header=None, sep=\"\\t\",encoding='mac_roman')\n",
    "df2.rename(columns={0: \"tweet\",}, inplace=True)\n",
    "df2.head()"
   ]
  },
  {
   "cell_type": "code",
   "execution_count": 26,
   "id": "85835783",
   "metadata": {},
   "outputs": [],
   "source": [
    "def label(tweet) :\n",
    "    m = tweet.find(',')\n",
    "    return int(tweet[:m])"
   ]
  },
  {
   "cell_type": "code",
   "execution_count": 27,
   "id": "46bbbe36",
   "metadata": {},
   "outputs": [
    {
     "data": {
      "text/html": [
       "<div>\n",
       "<style scoped>\n",
       "    .dataframe tbody tr th:only-of-type {\n",
       "        vertical-align: middle;\n",
       "    }\n",
       "\n",
       "    .dataframe tbody tr th {\n",
       "        vertical-align: top;\n",
       "    }\n",
       "\n",
       "    .dataframe thead th {\n",
       "        text-align: right;\n",
       "    }\n",
       "</style>\n",
       "<table border=\"1\" class=\"dataframe\">\n",
       "  <thead>\n",
       "    <tr style=\"text-align: right;\">\n",
       "      <th></th>\n",
       "      <th>tweet</th>\n",
       "      <th>label</th>\n",
       "    </tr>\n",
       "  </thead>\n",
       "  <tbody>\n",
       "    <tr>\n",
       "      <th>0</th>\n",
       "      <td>0,Watching by myself  #tweetdebate Not drinkin...</td>\n",
       "      <td>0</td>\n",
       "    </tr>\n",
       "    <tr>\n",
       "      <th>1</th>\n",
       "      <td>0,@ahg3 @MichDot Yeah, slime was actually my s...</td>\n",
       "      <td>0</td>\n",
       "    </tr>\n",
       "    <tr>\n",
       "      <th>2</th>\n",
       "      <td>0,Preparing to have a heart attack #tweetdebate,</td>\n",
       "      <td>0</td>\n",
       "    </tr>\n",
       "    <tr>\n",
       "      <th>3</th>\n",
       "      <td>0,no debate moderators under 50, sorry  #tweet...</td>\n",
       "      <td>0</td>\n",
       "    </tr>\n",
       "    <tr>\n",
       "      <th>4</th>\n",
       "      <td>0,@current Now staring at black screen on http...</td>\n",
       "      <td>0</td>\n",
       "    </tr>\n",
       "  </tbody>\n",
       "</table>\n",
       "</div>"
      ],
      "text/plain": [
       "                                               tweet  label\n",
       "0  0,Watching by myself  #tweetdebate Not drinkin...      0\n",
       "1  0,@ahg3 @MichDot Yeah, slime was actually my s...      0\n",
       "2   0,Preparing to have a heart attack #tweetdebate,      0\n",
       "3  0,no debate moderators under 50, sorry  #tweet...      0\n",
       "4  0,@current Now staring at black screen on http...      0"
      ]
     },
     "execution_count": 27,
     "metadata": {},
     "output_type": "execute_result"
    }
   ],
   "source": [
    "df2['label'] = df2['tweet'].apply(lambda X: label(X))\n",
    "df2.head()"
   ]
  },
  {
   "cell_type": "code",
   "execution_count": 28,
   "id": "2846e7cb",
   "metadata": {},
   "outputs": [
    {
     "data": {
      "text/html": [
       "<div>\n",
       "<style scoped>\n",
       "    .dataframe tbody tr th:only-of-type {\n",
       "        vertical-align: middle;\n",
       "    }\n",
       "\n",
       "    .dataframe tbody tr th {\n",
       "        vertical-align: top;\n",
       "    }\n",
       "\n",
       "    .dataframe thead th {\n",
       "        text-align: right;\n",
       "    }\n",
       "</style>\n",
       "<table border=\"1\" class=\"dataframe\">\n",
       "  <thead>\n",
       "    <tr style=\"text-align: right;\">\n",
       "      <th></th>\n",
       "      <th>tweet</th>\n",
       "      <th>label</th>\n",
       "    </tr>\n",
       "  </thead>\n",
       "  <tbody>\n",
       "    <tr>\n",
       "      <th>0</th>\n",
       "      <td>Watching by myself  tweetdebate Not drinking  ...</td>\n",
       "      <td>0</td>\n",
       "    </tr>\n",
       "    <tr>\n",
       "      <th>1</th>\n",
       "      <td>ahg MichDot Yeah slime was actually my second ...</td>\n",
       "      <td>0</td>\n",
       "    </tr>\n",
       "    <tr>\n",
       "      <th>2</th>\n",
       "      <td>Preparing to have a heart attack tweetdebate</td>\n",
       "      <td>0</td>\n",
       "    </tr>\n",
       "    <tr>\n",
       "      <th>3</th>\n",
       "      <td>no debate moderators under  sorry  tweetdebate</td>\n",
       "      <td>0</td>\n",
       "    </tr>\n",
       "    <tr>\n",
       "      <th>4</th>\n",
       "      <td>current Now staring at black screen on httpwww...</td>\n",
       "      <td>0</td>\n",
       "    </tr>\n",
       "  </tbody>\n",
       "</table>\n",
       "</div>"
      ],
      "text/plain": [
       "                                               tweet  label\n",
       "0  Watching by myself  tweetdebate Not drinking  ...      0\n",
       "1  ahg MichDot Yeah slime was actually my second ...      0\n",
       "2       Preparing to have a heart attack tweetdebate      0\n",
       "3     no debate moderators under  sorry  tweetdebate      0\n",
       "4  current Now staring at black screen on httpwww...      0"
      ]
     },
     "execution_count": 28,
     "metadata": {},
     "output_type": "execute_result"
    }
   ],
   "source": [
    "df2['tweet']= df2['tweet'].apply(punctuation)\n",
    "df2.head()"
   ]
  },
  {
   "cell_type": "code",
   "execution_count": 29,
   "id": "23b5ce8f",
   "metadata": {},
   "outputs": [
    {
     "data": {
      "text/html": [
       "<div>\n",
       "<style scoped>\n",
       "    .dataframe tbody tr th:only-of-type {\n",
       "        vertical-align: middle;\n",
       "    }\n",
       "\n",
       "    .dataframe tbody tr th {\n",
       "        vertical-align: top;\n",
       "    }\n",
       "\n",
       "    .dataframe thead th {\n",
       "        text-align: right;\n",
       "    }\n",
       "</style>\n",
       "<table border=\"1\" class=\"dataframe\">\n",
       "  <thead>\n",
       "    <tr style=\"text-align: right;\">\n",
       "      <th></th>\n",
       "      <th>tweet</th>\n",
       "      <th>label</th>\n",
       "    </tr>\n",
       "  </thead>\n",
       "  <tbody>\n",
       "    <tr>\n",
       "      <th>0</th>\n",
       "      <td>watching by myself  tweetdebate not drinking  ...</td>\n",
       "      <td>0</td>\n",
       "    </tr>\n",
       "    <tr>\n",
       "      <th>1</th>\n",
       "      <td>ahg michdot yeah slime was actually my second ...</td>\n",
       "      <td>0</td>\n",
       "    </tr>\n",
       "    <tr>\n",
       "      <th>2</th>\n",
       "      <td>preparing to have a heart attack tweetdebate</td>\n",
       "      <td>0</td>\n",
       "    </tr>\n",
       "    <tr>\n",
       "      <th>3</th>\n",
       "      <td>no debate moderators under  sorry  tweetdebate</td>\n",
       "      <td>0</td>\n",
       "    </tr>\n",
       "    <tr>\n",
       "      <th>4</th>\n",
       "      <td>current now staring at black screen on httpwww...</td>\n",
       "      <td>0</td>\n",
       "    </tr>\n",
       "  </tbody>\n",
       "</table>\n",
       "</div>"
      ],
      "text/plain": [
       "                                               tweet  label\n",
       "0  watching by myself  tweetdebate not drinking  ...      0\n",
       "1  ahg michdot yeah slime was actually my second ...      0\n",
       "2       preparing to have a heart attack tweetdebate      0\n",
       "3     no debate moderators under  sorry  tweetdebate      0\n",
       "4  current now staring at black screen on httpwww...      0"
      ]
     },
     "execution_count": 29,
     "metadata": {},
     "output_type": "execute_result"
    }
   ],
   "source": [
    "df2['tweet']= df2['tweet'].apply(lambda x: x.lower())\n",
    "df2.head()"
   ]
  },
  {
   "cell_type": "code",
   "execution_count": 30,
   "id": "04cd7572",
   "metadata": {},
   "outputs": [
    {
     "data": {
      "text/html": [
       "<div>\n",
       "<style scoped>\n",
       "    .dataframe tbody tr th:only-of-type {\n",
       "        vertical-align: middle;\n",
       "    }\n",
       "\n",
       "    .dataframe tbody tr th {\n",
       "        vertical-align: top;\n",
       "    }\n",
       "\n",
       "    .dataframe thead th {\n",
       "        text-align: right;\n",
       "    }\n",
       "</style>\n",
       "<table border=\"1\" class=\"dataframe\">\n",
       "  <thead>\n",
       "    <tr style=\"text-align: right;\">\n",
       "      <th></th>\n",
       "      <th>tweet</th>\n",
       "      <th>label</th>\n",
       "    </tr>\n",
       "  </thead>\n",
       "  <tbody>\n",
       "    <tr>\n",
       "      <th>0</th>\n",
       "      <td>watching by myself tweetdebate not drinking wa...</td>\n",
       "      <td>0</td>\n",
       "    </tr>\n",
       "    <tr>\n",
       "      <th>1</th>\n",
       "      <td>ahg michdot yeah slime was actually my second ...</td>\n",
       "      <td>0</td>\n",
       "    </tr>\n",
       "    <tr>\n",
       "      <th>2</th>\n",
       "      <td>preparing to have a heart attack tweetdebate</td>\n",
       "      <td>0</td>\n",
       "    </tr>\n",
       "    <tr>\n",
       "      <th>3</th>\n",
       "      <td>no debate moderators under sorry tweetdebate</td>\n",
       "      <td>0</td>\n",
       "    </tr>\n",
       "    <tr>\n",
       "      <th>4</th>\n",
       "      <td>current now staring at black screen on httpwww...</td>\n",
       "      <td>0</td>\n",
       "    </tr>\n",
       "  </tbody>\n",
       "</table>\n",
       "</div>"
      ],
      "text/plain": [
       "                                               tweet  label\n",
       "0  watching by myself tweetdebate not drinking wa...      0\n",
       "1  ahg michdot yeah slime was actually my second ...      0\n",
       "2       preparing to have a heart attack tweetdebate      0\n",
       "3       no debate moderators under sorry tweetdebate      0\n",
       "4  current now staring at black screen on httpwww...      0"
      ]
     },
     "execution_count": 30,
     "metadata": {},
     "output_type": "execute_result"
    }
   ],
   "source": [
    "df2['tweet']=df2['tweet'].apply(whitespace)\n",
    "df2.head()"
   ]
  },
  {
   "cell_type": "code",
   "execution_count": 31,
   "id": "5f1b18ce",
   "metadata": {},
   "outputs": [
    {
     "data": {
      "text/html": [
       "<div>\n",
       "<style scoped>\n",
       "    .dataframe tbody tr th:only-of-type {\n",
       "        vertical-align: middle;\n",
       "    }\n",
       "\n",
       "    .dataframe tbody tr th {\n",
       "        vertical-align: top;\n",
       "    }\n",
       "\n",
       "    .dataframe thead th {\n",
       "        text-align: right;\n",
       "    }\n",
       "</style>\n",
       "<table border=\"1\" class=\"dataframe\">\n",
       "  <thead>\n",
       "    <tr style=\"text-align: right;\">\n",
       "      <th></th>\n",
       "      <th>tweet</th>\n",
       "      <th>label</th>\n",
       "    </tr>\n",
       "  </thead>\n",
       "  <tbody>\n",
       "    <tr>\n",
       "      <th>0</th>\n",
       "      <td>[watching, by, myself, tweetdebate, not, drink...</td>\n",
       "      <td>0</td>\n",
       "    </tr>\n",
       "    <tr>\n",
       "      <th>1</th>\n",
       "      <td>[ahg, michdot, yeah, slime, was, actually, my,...</td>\n",
       "      <td>0</td>\n",
       "    </tr>\n",
       "    <tr>\n",
       "      <th>2</th>\n",
       "      <td>[preparing, to, have, a, heart, attack, tweetd...</td>\n",
       "      <td>0</td>\n",
       "    </tr>\n",
       "    <tr>\n",
       "      <th>3</th>\n",
       "      <td>[no, debate, moderators, under, sorry, tweetde...</td>\n",
       "      <td>0</td>\n",
       "    </tr>\n",
       "    <tr>\n",
       "      <th>4</th>\n",
       "      <td>[current, now, staring, at, black, screen, on,...</td>\n",
       "      <td>0</td>\n",
       "    </tr>\n",
       "  </tbody>\n",
       "</table>\n",
       "</div>"
      ],
      "text/plain": [
       "                                               tweet  label\n",
       "0  [watching, by, myself, tweetdebate, not, drink...      0\n",
       "1  [ahg, michdot, yeah, slime, was, actually, my,...      0\n",
       "2  [preparing, to, have, a, heart, attack, tweetd...      0\n",
       "3  [no, debate, moderators, under, sorry, tweetde...      0\n",
       "4  [current, now, staring, at, black, screen, on,...      0"
      ]
     },
     "execution_count": 31,
     "metadata": {},
     "output_type": "execute_result"
    }
   ],
   "source": [
    "df2['tweet']=df2['tweet'].apply(lambda X: word_tokenize(X))\n",
    "df2.head()"
   ]
  },
  {
   "cell_type": "code",
   "execution_count": 34,
   "id": "84b4557e",
   "metadata": {},
   "outputs": [
    {
     "data": {
      "text/html": [
       "<div>\n",
       "<style scoped>\n",
       "    .dataframe tbody tr th:only-of-type {\n",
       "        vertical-align: middle;\n",
       "    }\n",
       "\n",
       "    .dataframe tbody tr th {\n",
       "        vertical-align: top;\n",
       "    }\n",
       "\n",
       "    .dataframe thead th {\n",
       "        text-align: right;\n",
       "    }\n",
       "</style>\n",
       "<table border=\"1\" class=\"dataframe\">\n",
       "  <thead>\n",
       "    <tr style=\"text-align: right;\">\n",
       "      <th></th>\n",
       "      <th>tweet</th>\n",
       "      <th>label</th>\n",
       "    </tr>\n",
       "  </thead>\n",
       "  <tbody>\n",
       "    <tr>\n",
       "      <th>0</th>\n",
       "      <td>[watching, tweetdebate, drinking, waiting, sta...</td>\n",
       "      <td>0</td>\n",
       "    </tr>\n",
       "    <tr>\n",
       "      <th>1</th>\n",
       "      <td>[ahg, michdot, yeah, slime, actually, second, ...</td>\n",
       "      <td>0</td>\n",
       "    </tr>\n",
       "    <tr>\n",
       "      <th>2</th>\n",
       "      <td>[preparing, heart, attack, tweetdebate]</td>\n",
       "      <td>0</td>\n",
       "    </tr>\n",
       "    <tr>\n",
       "      <th>3</th>\n",
       "      <td>[debate, moderators, sorry, tweetdebate]</td>\n",
       "      <td>0</td>\n",
       "    </tr>\n",
       "    <tr>\n",
       "      <th>4</th>\n",
       "      <td>[current, staring, black, screen, httpwwwcurre...</td>\n",
       "      <td>0</td>\n",
       "    </tr>\n",
       "  </tbody>\n",
       "</table>\n",
       "</div>"
      ],
      "text/plain": [
       "                                               tweet  label\n",
       "0  [watching, tweetdebate, drinking, waiting, sta...      0\n",
       "1  [ahg, michdot, yeah, slime, actually, second, ...      0\n",
       "2            [preparing, heart, attack, tweetdebate]      0\n",
       "3           [debate, moderators, sorry, tweetdebate]      0\n",
       "4  [current, staring, black, screen, httpwwwcurre...      0"
      ]
     },
     "execution_count": 34,
     "metadata": {},
     "output_type": "execute_result"
    }
   ],
   "source": [
    "df2['tweet']=df2['tweet'].apply(lambda X: stopwords_f(X))\n",
    "df2.head()"
   ]
  },
  {
   "cell_type": "code",
   "execution_count": 35,
   "id": "5ecc2abf",
   "metadata": {},
   "outputs": [
    {
     "data": {
      "text/html": [
       "<div>\n",
       "<style scoped>\n",
       "    .dataframe tbody tr th:only-of-type {\n",
       "        vertical-align: middle;\n",
       "    }\n",
       "\n",
       "    .dataframe tbody tr th {\n",
       "        vertical-align: top;\n",
       "    }\n",
       "\n",
       "    .dataframe thead th {\n",
       "        text-align: right;\n",
       "    }\n",
       "</style>\n",
       "<table border=\"1\" class=\"dataframe\">\n",
       "  <thead>\n",
       "    <tr style=\"text-align: right;\">\n",
       "      <th></th>\n",
       "      <th>tweet</th>\n",
       "      <th>label</th>\n",
       "    </tr>\n",
       "  </thead>\n",
       "  <tbody>\n",
       "    <tr>\n",
       "      <th>0</th>\n",
       "      <td>[watching, tweetdebate, drinking, waiting, sta...</td>\n",
       "      <td>0</td>\n",
       "    </tr>\n",
       "    <tr>\n",
       "      <th>1</th>\n",
       "      <td>[ahg, michdot, yeah, slime, actually, second, ...</td>\n",
       "      <td>0</td>\n",
       "    </tr>\n",
       "    <tr>\n",
       "      <th>2</th>\n",
       "      <td>[preparing, heart, attack, tweetdebate]</td>\n",
       "      <td>0</td>\n",
       "    </tr>\n",
       "    <tr>\n",
       "      <th>3</th>\n",
       "      <td>[debate, moderator, sorry, tweetdebate]</td>\n",
       "      <td>0</td>\n",
       "    </tr>\n",
       "    <tr>\n",
       "      <th>4</th>\n",
       "      <td>[current, staring, black, screen, httpwwwcurre...</td>\n",
       "      <td>0</td>\n",
       "    </tr>\n",
       "  </tbody>\n",
       "</table>\n",
       "</div>"
      ],
      "text/plain": [
       "                                               tweet  label\n",
       "0  [watching, tweetdebate, drinking, waiting, sta...      0\n",
       "1  [ahg, michdot, yeah, slime, actually, second, ...      0\n",
       "2            [preparing, heart, attack, tweetdebate]      0\n",
       "3            [debate, moderator, sorry, tweetdebate]      0\n",
       "4  [current, staring, black, screen, httpwwwcurre...      0"
      ]
     },
     "execution_count": 35,
     "metadata": {},
     "output_type": "execute_result"
    }
   ],
   "source": [
    "df2['tweet']=df2['tweet'].apply(lambda X: lemmatization(X))\n",
    "df2.head()"
   ]
  },
  {
   "cell_type": "code",
   "execution_count": 36,
   "id": "3a4c15db",
   "metadata": {},
   "outputs": [
    {
     "data": {
      "text/html": [
       "<div>\n",
       "<style scoped>\n",
       "    .dataframe tbody tr th:only-of-type {\n",
       "        vertical-align: middle;\n",
       "    }\n",
       "\n",
       "    .dataframe tbody tr th {\n",
       "        vertical-align: top;\n",
       "    }\n",
       "\n",
       "    .dataframe thead th {\n",
       "        text-align: right;\n",
       "    }\n",
       "</style>\n",
       "<table border=\"1\" class=\"dataframe\">\n",
       "  <thead>\n",
       "    <tr style=\"text-align: right;\">\n",
       "      <th></th>\n",
       "      <th>tweet</th>\n",
       "      <th>label</th>\n",
       "    </tr>\n",
       "  </thead>\n",
       "  <tbody>\n",
       "    <tr>\n",
       "      <th>0</th>\n",
       "      <td>watching tweetdebate drinking waiting start cr...</td>\n",
       "      <td>0</td>\n",
       "    </tr>\n",
       "    <tr>\n",
       "      <th>1</th>\n",
       "      <td>ahg michdot yeah slime actually second choice ...</td>\n",
       "      <td>0</td>\n",
       "    </tr>\n",
       "    <tr>\n",
       "      <th>2</th>\n",
       "      <td>preparing heart attack tweetdebate</td>\n",
       "      <td>0</td>\n",
       "    </tr>\n",
       "    <tr>\n",
       "      <th>3</th>\n",
       "      <td>debate moderator sorry tweetdebate</td>\n",
       "      <td>0</td>\n",
       "    </tr>\n",
       "    <tr>\n",
       "      <th>4</th>\n",
       "      <td>current staring black screen httpwwwcurrentcom...</td>\n",
       "      <td>0</td>\n",
       "    </tr>\n",
       "  </tbody>\n",
       "</table>\n",
       "</div>"
      ],
      "text/plain": [
       "                                               tweet  label\n",
       "0  watching tweetdebate drinking waiting start cr...      0\n",
       "1  ahg michdot yeah slime actually second choice ...      0\n",
       "2                 preparing heart attack tweetdebate      0\n",
       "3                 debate moderator sorry tweetdebate      0\n",
       "4  current staring black screen httpwwwcurrentcom...      0"
      ]
     },
     "execution_count": 36,
     "metadata": {},
     "output_type": "execute_result"
    }
   ],
   "source": [
    "df2['tweet']=df2['tweet'].apply(lambda X: string_maker(X))\n",
    "df2.head()"
   ]
  },
  {
   "cell_type": "code",
   "execution_count": 37,
   "id": "82376a67",
   "metadata": {},
   "outputs": [],
   "source": [
    "vectorizer = TfidfVectorizer()\n",
    "X= vectorizer.fit_transform(df2['tweet'])\n",
    "y = df2['label']"
   ]
  },
  {
   "cell_type": "code",
   "execution_count": 38,
   "id": "42599169",
   "metadata": {},
   "outputs": [
    {
     "data": {
      "image/png": "[encoded data removed]",
      "text/plain": [
       "<Figure size 600x400 with 1 Axes>"
      ]
     },
     "metadata": {},
     "output_type": "display_data"
    }
   ],
   "source": [
    "# Cell 10: Visualization - Sentiment Distribution\n",
    "sentiment_distribution = df2['label'].value_counts()\n",
    "plt.figure(figsize=(6, 4))\n",
    "sentiment_distribution.plot(kind='bar', color=['#D3D3D3', '#FFC0CB'])\n",
    "plt.title('Sentiment Distribution')\n",
    "plt.xlabel('Sentiment')\n",
    "plt.ylabel('Count')\n",
    "plt.xticks(rotation=0)\n",
    "plt.show()"
   ]
  },
  {
   "cell_type": "markdown",
   "id": "0f690179",
   "metadata": {},
   "source": [
    "### Training Models:"
   ]
  },
  {
   "cell_type": "code",
   "execution_count": 39,
   "id": "44960a2a",
   "metadata": {},
   "outputs": [],
   "source": [
    "# cross_validation = ShuffleSplit(10, test_size=0.05, random_state=0)\n",
    "\n",
    "# clf = MultinomialNB(alpha = 0.4)\n",
    "# NB_result = cross_val_score(clf, X, y, cv=cross_validation).mean()\n",
    "\n",
    "# print('accuracy:', NB_result.mean()*100)"
   ]
  },
  {
   "cell_type": "markdown",
   "id": "f45d4850",
   "metadata": {},
   "source": [
    "Results of Naive Bayes:"
   ]
  },
  {
   "cell_type": "code",
   "execution_count": 40,
   "id": "5f2a7342",
   "metadata": {},
   "outputs": [
    {
     "name": "stdout",
     "output_type": "stream",
     "text": [
      "Training Accuracy: 90.41994750656168\n",
      "Test Accuracy: 76.43979057591623\n",
      "Cross-Validation Accuracy: 72.29126213592232\n"
     ]
    }
   ],
   "source": [
    "train_accuracy_NB, test_accuracy_NB, cross_val_accuracy_NB = train_multinomial_naive_bayes_classifier(X, y, n_splits=10, test_size=0.27, random_state=0)\n",
    "\n",
    "print('Training Accuracy:', train_accuracy_NB)\n",
    "print('Test Accuracy:', test_accuracy_NB)\n",
    "print('Cross-Validation Accuracy:', cross_val_accuracy_NB)\n",
    "\n"
   ]
  },
  {
   "cell_type": "markdown",
   "id": "0aaf9404",
   "metadata": {},
   "source": [
    "Results of Logistic Regression:"
   ]
  },
  {
   "cell_type": "code",
   "execution_count": 41,
   "id": "e4b10f58",
   "metadata": {},
   "outputs": [
    {
     "name": "stdout",
     "output_type": "stream",
     "text": [
      "Training Accuracy: 85.69553805774278\n",
      "Test Accuracy: 73.82198952879581\n",
      "Cross-Validation Accuracy: 76.11650485436893\n"
     ]
    }
   ],
   "source": [
    "train_accuracy_LR, test_accuracy_LR, cross_val_accuracy_LR = train_logistic_regression_classifier(X, y, max_iter=1000, random_state=42, n_splits=10, test_size=0.27)\n",
    "print('Training Accuracy:', train_accuracy_LR)\n",
    "print('Test Accuracy:', test_accuracy_LR)\n",
    "print('Cross-Validation Accuracy:', cross_val_accuracy_LR)"
   ]
  },
  {
   "cell_type": "markdown",
   "id": "f3e7bb3d",
   "metadata": {},
   "source": [
    "Results of Random Forest:"
   ]
  },
  {
   "cell_type": "code",
   "execution_count": 42,
   "id": "4d33a6ec",
   "metadata": {},
   "outputs": [
    {
     "name": "stdout",
     "output_type": "stream",
     "text": [
      "Training Accuracy: 84.97375328083989\n",
      "Test Accuracy: 72.5130890052356\n",
      "Cross-Validation Accuracy: 74.6019417475728\n"
     ]
    }
   ],
   "source": [
    "train_accuracy_RF, test_accuracy_RF, cross_val_accuracy_RF =  train_random_forest_classifier(X, y, n_splits=10, random_state=30, n_estimators=1000, max_depth=50, min_samples_leaf=2, test_size=0.27)\n",
    "print('Training Accuracy:', train_accuracy_RF)\n",
    "print('Test Accuracy:', test_accuracy_RF)\n",
    "print('Cross-Validation Accuracy:', cross_val_accuracy_RF)"
   ]
  },
  {
   "cell_type": "code",
   "execution_count": 43,
   "id": "3e209e6d",
   "metadata": {},
   "outputs": [
    {
     "data": {
      "image/png": "[encoded data removed]",
      "text/plain": [
       "<Figure size 800x400 with 1 Axes>"
      ]
     },
     "metadata": {},
     "output_type": "display_data"
    }
   ],
   "source": [
    "# Accuracy scores for each model and dataset\n",
    "models = ['Naive Bayes', 'Logistic Regression', 'Random Forest']\n",
    "train_scores = [train_accuracy_NB , train_accuracy_LR , train_accuracy_RF ]\n",
    "cross_val_scores = [cross_val_accuracy_NB , cross_val_accuracy_LR , cross_val_accuracy_RF ]\n",
    "test_scores = [test_accuracy_NB , test_accuracy_LR , test_accuracy_RF ]\n",
    "\n",
    "# Define custom colors\n",
    "colors = ['#ADD8E6', '#D3D3D3', '#FFC0CB']  # Light blue, light grey, light pink\n",
    "\n",
    "\n",
    "plot_model_comparison(models, train_scores, cross_val_scores, test_scores, colors=None)"
   ]
  }
 ],
 "metadata": {
  "kernelspec": {
   "display_name": "Python 3 (ipykernel)",
   "language": "python",
   "name": "python3"
  },
  "language_info": {
   "codemirror_mode": {
    "name": "ipython",
    "version": 3
   },
   "file_extension": ".py",
   "mimetype": "text/x-python",
   "name": "python",
   "nbconvert_exporter": "python",
   "pygments_lexer": "ipython3",
   "version": "3.10.9"
  }
 },
 "nbformat": 4,
 "nbformat_minor": 5
}
