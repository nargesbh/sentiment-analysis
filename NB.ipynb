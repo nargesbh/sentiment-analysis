{
 "cells": [
  {
   "cell_type": "markdown",
   "id": "cbdde91d",
   "metadata": {},
   "source": [
    "##### Babaahmadi-narges\n",
    "### Importing needed libraries"
   ]
  },
  {
   "cell_type": "code",
   "execution_count": 79,
   "id": "db5268df",
   "metadata": {},
   "outputs": [],
   "source": [
    "import pandas as pd\n",
    "import numpy as np\n",
    "import string\n",
    "import re\n",
    "import nltk\n",
    "from nltk import word_tokenize\n",
    "from spellchecker import SpellChecker\n",
    "from nltk.stem import WordNetLemmatizer\n",
    "from nltk.corpus import stopwords\n",
    "from sklearn.feature_extraction.text import TfidfVectorizer\n",
    "from sklearn.model_selection import ShuffleSplit, cross_val_score\n",
    "from sklearn.naive_bayes import MultinomialNB\n",
    "from sklearn.linear_model import LinearRegression"
   ]
  },
  {
   "cell_type": "markdown",
   "id": "9288acc8",
   "metadata": {},
   "source": [
    "### Reading the dataset\n",
    "Here I read the dataset, But each tweet is not in one cell and it can be disturbed in different columns, and that's why I combined all pieces and converted my dataset such that each tweet is in one cell."
   ]
  },
  {
   "cell_type": "code",
   "execution_count": 41,
   "id": "09c72309",
   "metadata": {},
   "outputs": [
    {
     "data": {
      "text/html": [
       "<div>\n",
       "<style scoped>\n",
       "    .dataframe tbody tr th:only-of-type {\n",
       "        vertical-align: middle;\n",
       "    }\n",
       "\n",
       "    .dataframe tbody tr th {\n",
       "        vertical-align: top;\n",
       "    }\n",
       "\n",
       "    .dataframe thead th {\n",
       "        text-align: right;\n",
       "    }\n",
       "</style>\n",
       "<table border=\"1\" class=\"dataframe\">\n",
       "  <thead>\n",
       "    <tr style=\"text-align: right;\">\n",
       "      <th></th>\n",
       "      <th>label</th>\n",
       "      <th>tweet</th>\n",
       "    </tr>\n",
       "  </thead>\n",
       "  <tbody>\n",
       "    <tr>\n",
       "      <th>0</th>\n",
       "      <td>0</td>\n",
       "      <td>RT @cjwallace03: So apparently @apple put MB c...</td>\n",
       "    </tr>\n",
       "    <tr>\n",
       "      <th>1</th>\n",
       "      <td>0</td>\n",
       "      <td>RT @Jewelz2611 @mashable @apple iphones r 2 ex...</td>\n",
       "    </tr>\n",
       "    <tr>\n",
       "      <th>2</th>\n",
       "      <td>0</td>\n",
       "      <td>@mashable @apple iphones r 2 expensive. Most w...</td>\n",
       "    </tr>\n",
       "    <tr>\n",
       "      <th>3</th>\n",
       "      <td>0</td>\n",
       "      <td>THiS IS WHAT WiLL KiLL APPLE http://t.co/72Jw4...</td>\n",
       "    </tr>\n",
       "    <tr>\n",
       "      <th>4</th>\n",
       "      <td>4</td>\n",
       "      <td>Now all @Apple has to do is get swype on the i...</td>\n",
       "    </tr>\n",
       "  </tbody>\n",
       "</table>\n",
       "</div>"
      ],
      "text/plain": [
       "   label                                              tweet\n",
       "0      0  RT @cjwallace03: So apparently @apple put MB c...\n",
       "1      0  RT @Jewelz2611 @mashable @apple iphones r 2 ex...\n",
       "2      0  @mashable @apple iphones r 2 expensive. Most w...\n",
       "3      0  THiS IS WHAT WiLL KiLL APPLE http://t.co/72Jw4...\n",
       "4      4  Now all @Apple has to do is get swype on the i..."
      ]
     },
     "execution_count": 41,
     "metadata": {},
     "output_type": "execute_result"
    }
   ],
   "source": [
    "df = pd.read_csv(\"SandersPosNeg.csv\", header=None, sep=\"\\t\")\n",
    "df.rename(columns={0: \"label\", 1: \"tweet\"}, inplace=True)\n",
    "df.head()"
   ]
  },
  {
   "cell_type": "markdown",
   "id": "c6ff563b",
   "metadata": {},
   "source": [
    "### preprocessing\n",
    "Now it's time for cleaning the data.\\\n",
    "The first step is to **remove the punctutions and numbers**."
   ]
  },
  {
   "cell_type": "code",
   "execution_count": 42,
   "id": "a2f3f529",
   "metadata": {},
   "outputs": [],
   "source": [
    "def punctuation(tweet):\n",
    "    ret_tweet = \"\"\n",
    "    for i in tweet:\n",
    "        if (i not in string.punctuation) and (i not in \"0123456789\"):\n",
    "            ret_tweet+=i\n",
    "    return ret_tweet"
   ]
  },
  {
   "cell_type": "code",
   "execution_count": 43,
   "id": "26053c96",
   "metadata": {},
   "outputs": [
    {
     "data": {
      "text/html": [
       "<div>\n",
       "<style scoped>\n",
       "    .dataframe tbody tr th:only-of-type {\n",
       "        vertical-align: middle;\n",
       "    }\n",
       "\n",
       "    .dataframe tbody tr th {\n",
       "        vertical-align: top;\n",
       "    }\n",
       "\n",
       "    .dataframe thead th {\n",
       "        text-align: right;\n",
       "    }\n",
       "</style>\n",
       "<table border=\"1\" class=\"dataframe\">\n",
       "  <thead>\n",
       "    <tr style=\"text-align: right;\">\n",
       "      <th></th>\n",
       "      <th>label</th>\n",
       "      <th>tweet</th>\n",
       "    </tr>\n",
       "  </thead>\n",
       "  <tbody>\n",
       "    <tr>\n",
       "      <th>0</th>\n",
       "      <td>0</td>\n",
       "      <td>RT cjwallace So apparently apple put MB cap on...</td>\n",
       "    </tr>\n",
       "    <tr>\n",
       "      <th>1</th>\n",
       "      <td>0</td>\n",
       "      <td>RT Jewelz mashable apple iphones r  expensive ...</td>\n",
       "    </tr>\n",
       "    <tr>\n",
       "      <th>2</th>\n",
       "      <td>0</td>\n",
       "      <td>mashable apple iphones r  expensive Most went ...</td>\n",
       "    </tr>\n",
       "    <tr>\n",
       "      <th>3</th>\n",
       "      <td>0</td>\n",
       "      <td>THiS IS WHAT WiLL KiLL APPLE httptcoJwzc RiP A...</td>\n",
       "    </tr>\n",
       "    <tr>\n",
       "      <th>4</th>\n",
       "      <td>4</td>\n",
       "      <td>Now all Apple has to do is get swype on the ip...</td>\n",
       "    </tr>\n",
       "  </tbody>\n",
       "</table>\n",
       "</div>"
      ],
      "text/plain": [
       "   label                                              tweet\n",
       "0      0  RT cjwallace So apparently apple put MB cap on...\n",
       "1      0  RT Jewelz mashable apple iphones r  expensive ...\n",
       "2      0  mashable apple iphones r  expensive Most went ...\n",
       "3      0  THiS IS WHAT WiLL KiLL APPLE httptcoJwzc RiP A...\n",
       "4      4  Now all Apple has to do is get swype on the ip..."
      ]
     },
     "execution_count": 43,
     "metadata": {},
     "output_type": "execute_result"
    }
   ],
   "source": [
    "df['tweet']= df['tweet'].apply(punctuation)\n",
    "df.head()"
   ]
  },
  {
   "cell_type": "markdown",
   "id": "a77e5f3d",
   "metadata": {},
   "source": [
    "The next step is to **convert all letters into lowercase**.\\\n",
    "I do this to avoid counting one word multiple times as different words."
   ]
  },
  {
   "cell_type": "code",
   "execution_count": 44,
   "id": "d2110ce0",
   "metadata": {},
   "outputs": [
    {
     "data": {
      "text/html": [
       "<div>\n",
       "<style scoped>\n",
       "    .dataframe tbody tr th:only-of-type {\n",
       "        vertical-align: middle;\n",
       "    }\n",
       "\n",
       "    .dataframe tbody tr th {\n",
       "        vertical-align: top;\n",
       "    }\n",
       "\n",
       "    .dataframe thead th {\n",
       "        text-align: right;\n",
       "    }\n",
       "</style>\n",
       "<table border=\"1\" class=\"dataframe\">\n",
       "  <thead>\n",
       "    <tr style=\"text-align: right;\">\n",
       "      <th></th>\n",
       "      <th>label</th>\n",
       "      <th>tweet</th>\n",
       "    </tr>\n",
       "  </thead>\n",
       "  <tbody>\n",
       "    <tr>\n",
       "      <th>0</th>\n",
       "      <td>0</td>\n",
       "      <td>rt cjwallace so apparently apple put mb cap on...</td>\n",
       "    </tr>\n",
       "    <tr>\n",
       "      <th>1</th>\n",
       "      <td>0</td>\n",
       "      <td>rt jewelz mashable apple iphones r  expensive ...</td>\n",
       "    </tr>\n",
       "    <tr>\n",
       "      <th>2</th>\n",
       "      <td>0</td>\n",
       "      <td>mashable apple iphones r  expensive most went ...</td>\n",
       "    </tr>\n",
       "    <tr>\n",
       "      <th>3</th>\n",
       "      <td>0</td>\n",
       "      <td>this is what will kill apple httptcojwzc rip a...</td>\n",
       "    </tr>\n",
       "    <tr>\n",
       "      <th>4</th>\n",
       "      <td>4</td>\n",
       "      <td>now all apple has to do is get swype on the ip...</td>\n",
       "    </tr>\n",
       "  </tbody>\n",
       "</table>\n",
       "</div>"
      ],
      "text/plain": [
       "   label                                              tweet\n",
       "0      0  rt cjwallace so apparently apple put mb cap on...\n",
       "1      0  rt jewelz mashable apple iphones r  expensive ...\n",
       "2      0  mashable apple iphones r  expensive most went ...\n",
       "3      0  this is what will kill apple httptcojwzc rip a...\n",
       "4      4  now all apple has to do is get swype on the ip..."
      ]
     },
     "execution_count": 44,
     "metadata": {},
     "output_type": "execute_result"
    }
   ],
   "source": [
    "df['tweet']= df['tweet'].apply(lambda x: x.lower())\n",
    "df.head()"
   ]
  },
  {
   "cell_type": "markdown",
   "id": "c017e114",
   "metadata": {},
   "source": [
    "**Removing extra whitespace** step:"
   ]
  },
  {
   "cell_type": "code",
   "execution_count": 45,
   "id": "e818a010",
   "metadata": {},
   "outputs": [],
   "source": [
    "def whitespace(tweet):\n",
    "    return  \" \".join(tweet.split())"
   ]
  },
  {
   "cell_type": "code",
   "execution_count": 46,
   "id": "d4c1e473",
   "metadata": {},
   "outputs": [
    {
     "data": {
      "text/html": [
       "<div>\n",
       "<style scoped>\n",
       "    .dataframe tbody tr th:only-of-type {\n",
       "        vertical-align: middle;\n",
       "    }\n",
       "\n",
       "    .dataframe tbody tr th {\n",
       "        vertical-align: top;\n",
       "    }\n",
       "\n",
       "    .dataframe thead th {\n",
       "        text-align: right;\n",
       "    }\n",
       "</style>\n",
       "<table border=\"1\" class=\"dataframe\">\n",
       "  <thead>\n",
       "    <tr style=\"text-align: right;\">\n",
       "      <th></th>\n",
       "      <th>label</th>\n",
       "      <th>tweet</th>\n",
       "    </tr>\n",
       "  </thead>\n",
       "  <tbody>\n",
       "    <tr>\n",
       "      <th>0</th>\n",
       "      <td>0</td>\n",
       "      <td>rt cjwallace so apparently apple put mb cap on...</td>\n",
       "    </tr>\n",
       "    <tr>\n",
       "      <th>1</th>\n",
       "      <td>0</td>\n",
       "      <td>rt jewelz mashable apple iphones r expensive m...</td>\n",
       "    </tr>\n",
       "    <tr>\n",
       "      <th>2</th>\n",
       "      <td>0</td>\n",
       "      <td>mashable apple iphones r expensive most went w...</td>\n",
       "    </tr>\n",
       "    <tr>\n",
       "      <th>3</th>\n",
       "      <td>0</td>\n",
       "      <td>this is what will kill apple httptcojwzc rip a...</td>\n",
       "    </tr>\n",
       "    <tr>\n",
       "      <th>4</th>\n",
       "      <td>4</td>\n",
       "      <td>now all apple has to do is get swype on the ip...</td>\n",
       "    </tr>\n",
       "  </tbody>\n",
       "</table>\n",
       "</div>"
      ],
      "text/plain": [
       "   label                                              tweet\n",
       "0      0  rt cjwallace so apparently apple put mb cap on...\n",
       "1      0  rt jewelz mashable apple iphones r expensive m...\n",
       "2      0  mashable apple iphones r expensive most went w...\n",
       "3      0  this is what will kill apple httptcojwzc rip a...\n",
       "4      4  now all apple has to do is get swype on the ip..."
      ]
     },
     "execution_count": 46,
     "metadata": {},
     "output_type": "execute_result"
    }
   ],
   "source": [
    "df['tweet']=df['tweet'].apply(whitespace)\n",
    "df.head()"
   ]
  },
  {
   "cell_type": "markdown",
   "id": "52f7bcdc",
   "metadata": {},
   "source": [
    "The next step is to **tokenize** all tweets:\\\n",
    "Tokenization is the process of splitting text into pieces called tokens.\\\n",
    "I did tokenization using nltk library."
   ]
  },
  {
   "cell_type": "code",
   "execution_count": 47,
   "id": "e0f8d6af",
   "metadata": {},
   "outputs": [
    {
     "data": {
      "text/html": [
       "<div>\n",
       "<style scoped>\n",
       "    .dataframe tbody tr th:only-of-type {\n",
       "        vertical-align: middle;\n",
       "    }\n",
       "\n",
       "    .dataframe tbody tr th {\n",
       "        vertical-align: top;\n",
       "    }\n",
       "\n",
       "    .dataframe thead th {\n",
       "        text-align: right;\n",
       "    }\n",
       "</style>\n",
       "<table border=\"1\" class=\"dataframe\">\n",
       "  <thead>\n",
       "    <tr style=\"text-align: right;\">\n",
       "      <th></th>\n",
       "      <th>label</th>\n",
       "      <th>tweet</th>\n",
       "    </tr>\n",
       "  </thead>\n",
       "  <tbody>\n",
       "    <tr>\n",
       "      <th>0</th>\n",
       "      <td>0</td>\n",
       "      <td>[rt, cjwallace, so, apparently, apple, put, mb...</td>\n",
       "    </tr>\n",
       "    <tr>\n",
       "      <th>1</th>\n",
       "      <td>0</td>\n",
       "      <td>[rt, jewelz, mashable, apple, iphones, r, expe...</td>\n",
       "    </tr>\n",
       "    <tr>\n",
       "      <th>2</th>\n",
       "      <td>0</td>\n",
       "      <td>[mashable, apple, iphones, r, expensive, most,...</td>\n",
       "    </tr>\n",
       "    <tr>\n",
       "      <th>3</th>\n",
       "      <td>0</td>\n",
       "      <td>[this, is, what, will, kill, apple, httptcojwz...</td>\n",
       "    </tr>\n",
       "    <tr>\n",
       "      <th>4</th>\n",
       "      <td>4</td>\n",
       "      <td>[now, all, apple, has, to, do, is, get, swype,...</td>\n",
       "    </tr>\n",
       "  </tbody>\n",
       "</table>\n",
       "</div>"
      ],
      "text/plain": [
       "   label                                              tweet\n",
       "0      0  [rt, cjwallace, so, apparently, apple, put, mb...\n",
       "1      0  [rt, jewelz, mashable, apple, iphones, r, expe...\n",
       "2      0  [mashable, apple, iphones, r, expensive, most,...\n",
       "3      0  [this, is, what, will, kill, apple, httptcojwz...\n",
       "4      4  [now, all, apple, has, to, do, is, get, swype,..."
      ]
     },
     "execution_count": 47,
     "metadata": {},
     "output_type": "execute_result"
    }
   ],
   "source": [
    "df['tweet']=df['tweet'].apply(lambda X: word_tokenize(X))\n",
    "df.head()"
   ]
  },
  {
   "cell_type": "markdown",
   "id": "27063ad6",
   "metadata": {},
   "source": [
    "Tweets might have **spelling errors** so ,in order to maximize our accuracy, I corrected the errors using python package pyspellchecker. "
   ]
  },
  {
   "cell_type": "code",
   "execution_count": 48,
   "id": "eac302f2",
   "metadata": {},
   "outputs": [],
   "source": [
    "def spelling(tweet):\n",
    "    checker = SpellChecker()\n",
    "    return_array = []\n",
    "    for i in tweet:\n",
    "        correct = checker.correction(i)\n",
    "        return_array.append(correct)\n",
    "    \n",
    "    return return_array"
   ]
  },
  {
   "cell_type": "code",
   "execution_count": 49,
   "id": "f690fa76",
   "metadata": {},
   "outputs": [
    {
     "data": {
      "text/html": [
       "<div>\n",
       "<style scoped>\n",
       "    .dataframe tbody tr th:only-of-type {\n",
       "        vertical-align: middle;\n",
       "    }\n",
       "\n",
       "    .dataframe tbody tr th {\n",
       "        vertical-align: top;\n",
       "    }\n",
       "\n",
       "    .dataframe thead th {\n",
       "        text-align: right;\n",
       "    }\n",
       "</style>\n",
       "<table border=\"1\" class=\"dataframe\">\n",
       "  <thead>\n",
       "    <tr style=\"text-align: right;\">\n",
       "      <th></th>\n",
       "      <th>label</th>\n",
       "      <th>tweet</th>\n",
       "    </tr>\n",
       "  </thead>\n",
       "  <tbody>\n",
       "    <tr>\n",
       "      <th>0</th>\n",
       "      <td>0</td>\n",
       "      <td>[it, wallace, so, apparently, apple, put, my, ...</td>\n",
       "    </tr>\n",
       "    <tr>\n",
       "      <th>1</th>\n",
       "      <td>0</td>\n",
       "      <td>[it, jewels, washable, apple, iphones, i, expe...</td>\n",
       "    </tr>\n",
       "    <tr>\n",
       "      <th>2</th>\n",
       "      <td>0</td>\n",
       "      <td>[washable, apple, iphones, i, expensive, most,...</td>\n",
       "    </tr>\n",
       "    <tr>\n",
       "      <th>3</th>\n",
       "      <td>0</td>\n",
       "      <td>[this, is, what, will, kill, apple, httptcojwz...</td>\n",
       "    </tr>\n",
       "    <tr>\n",
       "      <th>4</th>\n",
       "      <td>4</td>\n",
       "      <td>[now, all, apple, has, to, do, is, get, swipe,...</td>\n",
       "    </tr>\n",
       "  </tbody>\n",
       "</table>\n",
       "</div>"
      ],
      "text/plain": [
       "   label                                              tweet\n",
       "0      0  [it, wallace, so, apparently, apple, put, my, ...\n",
       "1      0  [it, jewels, washable, apple, iphones, i, expe...\n",
       "2      0  [washable, apple, iphones, i, expensive, most,...\n",
       "3      0  [this, is, what, will, kill, apple, httptcojwz...\n",
       "4      4  [now, all, apple, has, to, do, is, get, swipe,..."
      ]
     },
     "execution_count": 49,
     "metadata": {},
     "output_type": "execute_result"
    }
   ],
   "source": [
    "df['tweet']=df['tweet'].apply(lambda X: spelling(X))\n",
    "df.head()"
   ]
  },
  {
   "cell_type": "markdown",
   "id": "007f6f3d",
   "metadata": {},
   "source": [
    "One important step in preprocessing is to **remove the stop words**.\\\n",
    "Stop words are a set of commonly used words in a language than don't really effect our answers.\\\n",
    "some examples of stop words are:\\\n",
    "* i\n",
    "* me\n",
    "* we\n",
    "* you"
   ]
  },
  {
   "cell_type": "code",
   "execution_count": 50,
   "id": "b43ce2c4",
   "metadata": {},
   "outputs": [],
   "source": [
    "def stopwords_f(tweet):\n",
    "    return_array = []\n",
    "    for t in tweet:\n",
    "        if t not in stopwords_a:\n",
    "            return_array.append(t)\n",
    "            \n",
    "    return return_array\n",
    "stopwords_a = stopwords.words('english')"
   ]
  },
  {
   "cell_type": "code",
   "execution_count": 51,
   "id": "ee576de7",
   "metadata": {},
   "outputs": [
    {
     "data": {
      "text/html": [
       "<div>\n",
       "<style scoped>\n",
       "    .dataframe tbody tr th:only-of-type {\n",
       "        vertical-align: middle;\n",
       "    }\n",
       "\n",
       "    .dataframe tbody tr th {\n",
       "        vertical-align: top;\n",
       "    }\n",
       "\n",
       "    .dataframe thead th {\n",
       "        text-align: right;\n",
       "    }\n",
       "</style>\n",
       "<table border=\"1\" class=\"dataframe\">\n",
       "  <thead>\n",
       "    <tr style=\"text-align: right;\">\n",
       "      <th></th>\n",
       "      <th>label</th>\n",
       "      <th>tweet</th>\n",
       "    </tr>\n",
       "  </thead>\n",
       "  <tbody>\n",
       "    <tr>\n",
       "      <th>0</th>\n",
       "      <td>0</td>\n",
       "      <td>[wallace, apparently, apple, put, cap, sums, n...</td>\n",
       "    </tr>\n",
       "    <tr>\n",
       "      <th>1</th>\n",
       "      <td>0</td>\n",
       "      <td>[jewels, washable, apple, iphones, expensive, ...</td>\n",
       "    </tr>\n",
       "    <tr>\n",
       "      <th>2</th>\n",
       "      <td>0</td>\n",
       "      <td>[washable, apple, iphones, expensive, went, ht...</td>\n",
       "    </tr>\n",
       "    <tr>\n",
       "      <th>3</th>\n",
       "      <td>0</td>\n",
       "      <td>[kill, apple, httptcojwzc, rip, apple]</td>\n",
       "    </tr>\n",
       "    <tr>\n",
       "      <th>4</th>\n",
       "      <td>4</td>\n",
       "      <td>[apple, get, swipe, iphone, crack, iphone]</td>\n",
       "    </tr>\n",
       "  </tbody>\n",
       "</table>\n",
       "</div>"
      ],
      "text/plain": [
       "   label                                              tweet\n",
       "0      0  [wallace, apparently, apple, put, cap, sums, n...\n",
       "1      0  [jewels, washable, apple, iphones, expensive, ...\n",
       "2      0  [washable, apple, iphones, expensive, went, ht...\n",
       "3      0             [kill, apple, httptcojwzc, rip, apple]\n",
       "4      4         [apple, get, swipe, iphone, crack, iphone]"
      ]
     },
     "execution_count": 51,
     "metadata": {},
     "output_type": "execute_result"
    }
   ],
   "source": [
    "df['tweet']=df['tweet'].apply(lambda X: stopwords_f(X))\n",
    "df.head()"
   ]
  },
  {
   "cell_type": "markdown",
   "id": "c80bd754",
   "metadata": {},
   "source": [
    "Now it's time for **Stemming** and **Lemmatization**.\\\n",
    "Stemming means to cut off the end or the beginning of the word, taking into account a list of common prefixes and suffixes that can be found in an inflected word.\\\n",
    "Lemization, unlike Stemming, reduces the inflected words properly ensuring that the root word belongs to the language.\\\n",
    "I used lemmatization here."
   ]
  },
  {
   "cell_type": "code",
   "execution_count": 52,
   "id": "2a92e9c5",
   "metadata": {},
   "outputs": [],
   "source": [
    "def lemmatization(tweet):\n",
    "    wordnet_lemmatizer = WordNetLemmatizer()\n",
    "    \n",
    "    lemmatize_words = np.vectorize(wordnet_lemmatizer.lemmatize)\n",
    "    lemmatized_array = lemmatize_words(tweet)\n",
    "    \n",
    "    return lemmatized_array"
   ]
  },
  {
   "cell_type": "code",
   "execution_count": 53,
   "id": "4932de12",
   "metadata": {},
   "outputs": [
    {
     "data": {
      "text/html": [
       "<div>\n",
       "<style scoped>\n",
       "    .dataframe tbody tr th:only-of-type {\n",
       "        vertical-align: middle;\n",
       "    }\n",
       "\n",
       "    .dataframe tbody tr th {\n",
       "        vertical-align: top;\n",
       "    }\n",
       "\n",
       "    .dataframe thead th {\n",
       "        text-align: right;\n",
       "    }\n",
       "</style>\n",
       "<table border=\"1\" class=\"dataframe\">\n",
       "  <thead>\n",
       "    <tr style=\"text-align: right;\">\n",
       "      <th></th>\n",
       "      <th>label</th>\n",
       "      <th>tweet</th>\n",
       "    </tr>\n",
       "  </thead>\n",
       "  <tbody>\n",
       "    <tr>\n",
       "      <th>0</th>\n",
       "      <td>0</td>\n",
       "      <td>[wallace, apparently, apple, put, cap, sum, ne...</td>\n",
       "    </tr>\n",
       "    <tr>\n",
       "      <th>1</th>\n",
       "      <td>0</td>\n",
       "      <td>[jewel, washable, apple, iphones, expensive, w...</td>\n",
       "    </tr>\n",
       "    <tr>\n",
       "      <th>2</th>\n",
       "      <td>0</td>\n",
       "      <td>[washable, apple, iphones, expensive, went, ht...</td>\n",
       "    </tr>\n",
       "    <tr>\n",
       "      <th>3</th>\n",
       "      <td>0</td>\n",
       "      <td>[kill, apple, httptcojwzc, rip, apple]</td>\n",
       "    </tr>\n",
       "    <tr>\n",
       "      <th>4</th>\n",
       "      <td>4</td>\n",
       "      <td>[apple, get, swipe, iphone, crack, iphone]</td>\n",
       "    </tr>\n",
       "  </tbody>\n",
       "</table>\n",
       "</div>"
      ],
      "text/plain": [
       "   label                                              tweet\n",
       "0      0  [wallace, apparently, apple, put, cap, sum, ne...\n",
       "1      0  [jewel, washable, apple, iphones, expensive, w...\n",
       "2      0  [washable, apple, iphones, expensive, went, ht...\n",
       "3      0             [kill, apple, httptcojwzc, rip, apple]\n",
       "4      4         [apple, get, swipe, iphone, crack, iphone]"
      ]
     },
     "execution_count": 53,
     "metadata": {},
     "output_type": "execute_result"
    }
   ],
   "source": [
    "df['tweet']=df['tweet'].apply(lambda X: lemmatization(X))\n",
    "df.head()"
   ]
  },
  {
   "cell_type": "markdown",
   "id": "40ec04fa",
   "metadata": {},
   "source": [
    "#### TFIDF vectorication:\n",
    "As you can see tweet column includes array. I first have to convert it to string."
   ]
  },
  {
   "cell_type": "code",
   "execution_count": 54,
   "id": "4b86e39d",
   "metadata": {},
   "outputs": [],
   "source": [
    "def string_maker(tweet):\n",
    "    new = ' '.join(tweet)\n",
    "    return new"
   ]
  },
  {
   "cell_type": "code",
   "execution_count": 55,
   "id": "d3e97561",
   "metadata": {},
   "outputs": [
    {
     "data": {
      "text/html": [
       "<div>\n",
       "<style scoped>\n",
       "    .dataframe tbody tr th:only-of-type {\n",
       "        vertical-align: middle;\n",
       "    }\n",
       "\n",
       "    .dataframe tbody tr th {\n",
       "        vertical-align: top;\n",
       "    }\n",
       "\n",
       "    .dataframe thead th {\n",
       "        text-align: right;\n",
       "    }\n",
       "</style>\n",
       "<table border=\"1\" class=\"dataframe\">\n",
       "  <thead>\n",
       "    <tr style=\"text-align: right;\">\n",
       "      <th></th>\n",
       "      <th>label</th>\n",
       "      <th>tweet</th>\n",
       "    </tr>\n",
       "  </thead>\n",
       "  <tbody>\n",
       "    <tr>\n",
       "      <th>0</th>\n",
       "      <td>0</td>\n",
       "      <td>wallace apparently apple put cap sum new updat...</td>\n",
       "    </tr>\n",
       "    <tr>\n",
       "      <th>1</th>\n",
       "      <td>0</td>\n",
       "      <td>jewel washable apple iphones expensive went ht...</td>\n",
       "    </tr>\n",
       "    <tr>\n",
       "      <th>2</th>\n",
       "      <td>0</td>\n",
       "      <td>washable apple iphones expensive went htcgalax...</td>\n",
       "    </tr>\n",
       "    <tr>\n",
       "      <th>3</th>\n",
       "      <td>0</td>\n",
       "      <td>kill apple httptcojwzc rip apple</td>\n",
       "    </tr>\n",
       "    <tr>\n",
       "      <th>4</th>\n",
       "      <td>4</td>\n",
       "      <td>apple get swipe iphone crack iphone</td>\n",
       "    </tr>\n",
       "  </tbody>\n",
       "</table>\n",
       "</div>"
      ],
      "text/plain": [
       "   label                                              tweet\n",
       "0      0  wallace apparently apple put cap sum new updat...\n",
       "1      0  jewel washable apple iphones expensive went ht...\n",
       "2      0  washable apple iphones expensive went htcgalax...\n",
       "3      0                   kill apple httptcojwzc rip apple\n",
       "4      4                apple get swipe iphone crack iphone"
      ]
     },
     "execution_count": 55,
     "metadata": {},
     "output_type": "execute_result"
    }
   ],
   "source": [
    "df['tweet']=df['tweet'].apply(lambda X: string_maker(X))\n",
    "df.head()"
   ]
  },
  {
   "cell_type": "markdown",
   "id": "fe40273f",
   "metadata": {},
   "source": [
    "Now I can do tfidf vectorization."
   ]
  },
  {
   "cell_type": "code",
   "execution_count": 56,
   "id": "f4411d9e",
   "metadata": {},
   "outputs": [],
   "source": [
    "vectorizer = TfidfVectorizer()\n",
    "X_1 = vectorizer.fit_transform(df['tweet'])\n",
    "y_1 = df['label']"
   ]
  },
  {
   "cell_type": "markdown",
   "id": "8d7e9d31",
   "metadata": {},
   "source": [
    "### Training naive bayes using 10-fold cross validation on SandersPosNeg"
   ]
  },
  {
   "cell_type": "code",
   "execution_count": 86,
   "id": "a1eaf889",
   "metadata": {},
   "outputs": [
    {
     "name": "stdout",
     "output_type": "stream",
     "text": [
      "accuracy: 82.90030211480361\n"
     ]
    }
   ],
   "source": [
    "cross_validation = ShuffleSplit(10, test_size=0.27, random_state=0)\n",
    "\n",
    "clf = MultinomialNB()\n",
    "NB_result = cross_val_score(clf, X_1, y_1, cv=cross_validation).mean()\n",
    "\n",
    "print('accuracy:', NB_result.mean()*100)"
   ]
  },
  {
   "cell_type": "markdown",
   "id": "b15cf717",
   "metadata": {},
   "source": [
    "**As you can see I got the accuracy of 82.9% on SandersPosNeg dataset**"
   ]
  },
  {
   "cell_type": "markdown",
   "id": "c55865ef",
   "metadata": {},
   "source": [
    "### Doing the same steps for OMD"
   ]
  },
  {
   "cell_type": "code",
   "execution_count": 15,
   "id": "9f0f719c",
   "metadata": {},
   "outputs": [
    {
     "data": {
      "text/html": [
       "<div>\n",
       "<style scoped>\n",
       "    .dataframe tbody tr th:only-of-type {\n",
       "        vertical-align: middle;\n",
       "    }\n",
       "\n",
       "    .dataframe tbody tr th {\n",
       "        vertical-align: top;\n",
       "    }\n",
       "\n",
       "    .dataframe thead th {\n",
       "        text-align: right;\n",
       "    }\n",
       "</style>\n",
       "<table border=\"1\" class=\"dataframe\">\n",
       "  <thead>\n",
       "    <tr style=\"text-align: right;\">\n",
       "      <th></th>\n",
       "      <th>tweet</th>\n",
       "    </tr>\n",
       "  </thead>\n",
       "  <tbody>\n",
       "    <tr>\n",
       "      <th>0</th>\n",
       "      <td>0,Watching by myself  #tweetdebate Not drinkin...</td>\n",
       "    </tr>\n",
       "    <tr>\n",
       "      <th>1</th>\n",
       "      <td>0,@ahg3 @MichDot Yeah, slime was actually my s...</td>\n",
       "    </tr>\n",
       "    <tr>\n",
       "      <th>2</th>\n",
       "      <td>0,Preparing to have a heart attack #tweetdebate,</td>\n",
       "    </tr>\n",
       "    <tr>\n",
       "      <th>3</th>\n",
       "      <td>0,no debate moderators under 50, sorry  #tweet...</td>\n",
       "    </tr>\n",
       "    <tr>\n",
       "      <th>4</th>\n",
       "      <td>0,@current Now staring at black screen on http...</td>\n",
       "    </tr>\n",
       "  </tbody>\n",
       "</table>\n",
       "</div>"
      ],
      "text/plain": [
       "                                               tweet\n",
       "0  0,Watching by myself  #tweetdebate Not drinkin...\n",
       "1  0,@ahg3 @MichDot Yeah, slime was actually my s...\n",
       "2   0,Preparing to have a heart attack #tweetdebate,\n",
       "3  0,no debate moderators under 50, sorry  #tweet...\n",
       "4  0,@current Now staring at black screen on http..."
      ]
     },
     "execution_count": 15,
     "metadata": {},
     "output_type": "execute_result"
    }
   ],
   "source": [
    "df2 = pd.read_csv(\"OMD.csv\", header=None, sep=\"\\t\",encoding='mac_roman')\n",
    "df2.rename(columns={0: \"tweet\",}, inplace=True)\n",
    "df2.head()"
   ]
  },
  {
   "cell_type": "code",
   "execution_count": 16,
   "id": "85835783",
   "metadata": {},
   "outputs": [],
   "source": [
    "def label(tweet) :\n",
    "    m = tweet.find(',')\n",
    "    return int(tweet[:m])"
   ]
  },
  {
   "cell_type": "code",
   "execution_count": 17,
   "id": "46bbbe36",
   "metadata": {},
   "outputs": [
    {
     "data": {
      "text/html": [
       "<div>\n",
       "<style scoped>\n",
       "    .dataframe tbody tr th:only-of-type {\n",
       "        vertical-align: middle;\n",
       "    }\n",
       "\n",
       "    .dataframe tbody tr th {\n",
       "        vertical-align: top;\n",
       "    }\n",
       "\n",
       "    .dataframe thead th {\n",
       "        text-align: right;\n",
       "    }\n",
       "</style>\n",
       "<table border=\"1\" class=\"dataframe\">\n",
       "  <thead>\n",
       "    <tr style=\"text-align: right;\">\n",
       "      <th></th>\n",
       "      <th>tweet</th>\n",
       "      <th>label</th>\n",
       "    </tr>\n",
       "  </thead>\n",
       "  <tbody>\n",
       "    <tr>\n",
       "      <th>0</th>\n",
       "      <td>0,Watching by myself  #tweetdebate Not drinkin...</td>\n",
       "      <td>0</td>\n",
       "    </tr>\n",
       "    <tr>\n",
       "      <th>1</th>\n",
       "      <td>0,@ahg3 @MichDot Yeah, slime was actually my s...</td>\n",
       "      <td>0</td>\n",
       "    </tr>\n",
       "    <tr>\n",
       "      <th>2</th>\n",
       "      <td>0,Preparing to have a heart attack #tweetdebate,</td>\n",
       "      <td>0</td>\n",
       "    </tr>\n",
       "    <tr>\n",
       "      <th>3</th>\n",
       "      <td>0,no debate moderators under 50, sorry  #tweet...</td>\n",
       "      <td>0</td>\n",
       "    </tr>\n",
       "    <tr>\n",
       "      <th>4</th>\n",
       "      <td>0,@current Now staring at black screen on http...</td>\n",
       "      <td>0</td>\n",
       "    </tr>\n",
       "  </tbody>\n",
       "</table>\n",
       "</div>"
      ],
      "text/plain": [
       "                                               tweet  label\n",
       "0  0,Watching by myself  #tweetdebate Not drinkin...      0\n",
       "1  0,@ahg3 @MichDot Yeah, slime was actually my s...      0\n",
       "2   0,Preparing to have a heart attack #tweetdebate,      0\n",
       "3  0,no debate moderators under 50, sorry  #tweet...      0\n",
       "4  0,@current Now staring at black screen on http...      0"
      ]
     },
     "execution_count": 17,
     "metadata": {},
     "output_type": "execute_result"
    }
   ],
   "source": [
    "df2['label'] = df2['tweet'].apply(lambda X: label(X))\n",
    "df2.head()"
   ]
  },
  {
   "cell_type": "code",
   "execution_count": 18,
   "id": "2846e7cb",
   "metadata": {},
   "outputs": [
    {
     "data": {
      "text/html": [
       "<div>\n",
       "<style scoped>\n",
       "    .dataframe tbody tr th:only-of-type {\n",
       "        vertical-align: middle;\n",
       "    }\n",
       "\n",
       "    .dataframe tbody tr th {\n",
       "        vertical-align: top;\n",
       "    }\n",
       "\n",
       "    .dataframe thead th {\n",
       "        text-align: right;\n",
       "    }\n",
       "</style>\n",
       "<table border=\"1\" class=\"dataframe\">\n",
       "  <thead>\n",
       "    <tr style=\"text-align: right;\">\n",
       "      <th></th>\n",
       "      <th>tweet</th>\n",
       "      <th>label</th>\n",
       "    </tr>\n",
       "  </thead>\n",
       "  <tbody>\n",
       "    <tr>\n",
       "      <th>0</th>\n",
       "      <td>Watching by myself  tweetdebate Not drinking  ...</td>\n",
       "      <td>0</td>\n",
       "    </tr>\n",
       "    <tr>\n",
       "      <th>1</th>\n",
       "      <td>ahg MichDot Yeah slime was actually my second ...</td>\n",
       "      <td>0</td>\n",
       "    </tr>\n",
       "    <tr>\n",
       "      <th>2</th>\n",
       "      <td>Preparing to have a heart attack tweetdebate</td>\n",
       "      <td>0</td>\n",
       "    </tr>\n",
       "    <tr>\n",
       "      <th>3</th>\n",
       "      <td>no debate moderators under  sorry  tweetdebate</td>\n",
       "      <td>0</td>\n",
       "    </tr>\n",
       "    <tr>\n",
       "      <th>4</th>\n",
       "      <td>current Now staring at black screen on httpwww...</td>\n",
       "      <td>0</td>\n",
       "    </tr>\n",
       "  </tbody>\n",
       "</table>\n",
       "</div>"
      ],
      "text/plain": [
       "                                               tweet  label\n",
       "0  Watching by myself  tweetdebate Not drinking  ...      0\n",
       "1  ahg MichDot Yeah slime was actually my second ...      0\n",
       "2       Preparing to have a heart attack tweetdebate      0\n",
       "3     no debate moderators under  sorry  tweetdebate      0\n",
       "4  current Now staring at black screen on httpwww...      0"
      ]
     },
     "execution_count": 18,
     "metadata": {},
     "output_type": "execute_result"
    }
   ],
   "source": [
    "df2['tweet']= df2['tweet'].apply(punctuation)\n",
    "df2.head()"
   ]
  },
  {
   "cell_type": "code",
   "execution_count": 20,
   "id": "23b5ce8f",
   "metadata": {},
   "outputs": [
    {
     "data": {
      "text/html": [
       "<div>\n",
       "<style scoped>\n",
       "    .dataframe tbody tr th:only-of-type {\n",
       "        vertical-align: middle;\n",
       "    }\n",
       "\n",
       "    .dataframe tbody tr th {\n",
       "        vertical-align: top;\n",
       "    }\n",
       "\n",
       "    .dataframe thead th {\n",
       "        text-align: right;\n",
       "    }\n",
       "</style>\n",
       "<table border=\"1\" class=\"dataframe\">\n",
       "  <thead>\n",
       "    <tr style=\"text-align: right;\">\n",
       "      <th></th>\n",
       "      <th>tweet</th>\n",
       "      <th>label</th>\n",
       "    </tr>\n",
       "  </thead>\n",
       "  <tbody>\n",
       "    <tr>\n",
       "      <th>0</th>\n",
       "      <td>watching by myself  tweetdebate not drinking  ...</td>\n",
       "      <td>0</td>\n",
       "    </tr>\n",
       "    <tr>\n",
       "      <th>1</th>\n",
       "      <td>ahg michdot yeah slime was actually my second ...</td>\n",
       "      <td>0</td>\n",
       "    </tr>\n",
       "    <tr>\n",
       "      <th>2</th>\n",
       "      <td>preparing to have a heart attack tweetdebate</td>\n",
       "      <td>0</td>\n",
       "    </tr>\n",
       "    <tr>\n",
       "      <th>3</th>\n",
       "      <td>no debate moderators under  sorry  tweetdebate</td>\n",
       "      <td>0</td>\n",
       "    </tr>\n",
       "    <tr>\n",
       "      <th>4</th>\n",
       "      <td>current now staring at black screen on httpwww...</td>\n",
       "      <td>0</td>\n",
       "    </tr>\n",
       "  </tbody>\n",
       "</table>\n",
       "</div>"
      ],
      "text/plain": [
       "                                               tweet  label\n",
       "0  watching by myself  tweetdebate not drinking  ...      0\n",
       "1  ahg michdot yeah slime was actually my second ...      0\n",
       "2       preparing to have a heart attack tweetdebate      0\n",
       "3     no debate moderators under  sorry  tweetdebate      0\n",
       "4  current now staring at black screen on httpwww...      0"
      ]
     },
     "execution_count": 20,
     "metadata": {},
     "output_type": "execute_result"
    }
   ],
   "source": [
    "df2['tweet']= df2['tweet'].apply(lambda x: x.lower())\n",
    "df2.head()"
   ]
  },
  {
   "cell_type": "code",
   "execution_count": 22,
   "id": "04cd7572",
   "metadata": {},
   "outputs": [
    {
     "data": {
      "text/html": [
       "<div>\n",
       "<style scoped>\n",
       "    .dataframe tbody tr th:only-of-type {\n",
       "        vertical-align: middle;\n",
       "    }\n",
       "\n",
       "    .dataframe tbody tr th {\n",
       "        vertical-align: top;\n",
       "    }\n",
       "\n",
       "    .dataframe thead th {\n",
       "        text-align: right;\n",
       "    }\n",
       "</style>\n",
       "<table border=\"1\" class=\"dataframe\">\n",
       "  <thead>\n",
       "    <tr style=\"text-align: right;\">\n",
       "      <th></th>\n",
       "      <th>tweet</th>\n",
       "      <th>label</th>\n",
       "    </tr>\n",
       "  </thead>\n",
       "  <tbody>\n",
       "    <tr>\n",
       "      <th>0</th>\n",
       "      <td>watching by myself tweetdebate not drinking wa...</td>\n",
       "      <td>0</td>\n",
       "    </tr>\n",
       "    <tr>\n",
       "      <th>1</th>\n",
       "      <td>ahg michdot yeah slime was actually my second ...</td>\n",
       "      <td>0</td>\n",
       "    </tr>\n",
       "    <tr>\n",
       "      <th>2</th>\n",
       "      <td>preparing to have a heart attack tweetdebate</td>\n",
       "      <td>0</td>\n",
       "    </tr>\n",
       "    <tr>\n",
       "      <th>3</th>\n",
       "      <td>no debate moderators under sorry tweetdebate</td>\n",
       "      <td>0</td>\n",
       "    </tr>\n",
       "    <tr>\n",
       "      <th>4</th>\n",
       "      <td>current now staring at black screen on httpwww...</td>\n",
       "      <td>0</td>\n",
       "    </tr>\n",
       "  </tbody>\n",
       "</table>\n",
       "</div>"
      ],
      "text/plain": [
       "                                               tweet  label\n",
       "0  watching by myself tweetdebate not drinking wa...      0\n",
       "1  ahg michdot yeah slime was actually my second ...      0\n",
       "2       preparing to have a heart attack tweetdebate      0\n",
       "3       no debate moderators under sorry tweetdebate      0\n",
       "4  current now staring at black screen on httpwww...      0"
      ]
     },
     "execution_count": 22,
     "metadata": {},
     "output_type": "execute_result"
    }
   ],
   "source": [
    "df2['tweet']=df2['tweet'].apply(whitespace)\n",
    "df2.head()"
   ]
  },
  {
   "cell_type": "code",
   "execution_count": 24,
   "id": "5f1b18ce",
   "metadata": {},
   "outputs": [
    {
     "data": {
      "text/html": [
       "<div>\n",
       "<style scoped>\n",
       "    .dataframe tbody tr th:only-of-type {\n",
       "        vertical-align: middle;\n",
       "    }\n",
       "\n",
       "    .dataframe tbody tr th {\n",
       "        vertical-align: top;\n",
       "    }\n",
       "\n",
       "    .dataframe thead th {\n",
       "        text-align: right;\n",
       "    }\n",
       "</style>\n",
       "<table border=\"1\" class=\"dataframe\">\n",
       "  <thead>\n",
       "    <tr style=\"text-align: right;\">\n",
       "      <th></th>\n",
       "      <th>tweet</th>\n",
       "      <th>label</th>\n",
       "    </tr>\n",
       "  </thead>\n",
       "  <tbody>\n",
       "    <tr>\n",
       "      <th>0</th>\n",
       "      <td>[watching, by, myself, tweetdebate, not, drink...</td>\n",
       "      <td>0</td>\n",
       "    </tr>\n",
       "    <tr>\n",
       "      <th>1</th>\n",
       "      <td>[ahg, michdot, yeah, slime, was, actually, my,...</td>\n",
       "      <td>0</td>\n",
       "    </tr>\n",
       "    <tr>\n",
       "      <th>2</th>\n",
       "      <td>[preparing, to, have, a, heart, attack, tweetd...</td>\n",
       "      <td>0</td>\n",
       "    </tr>\n",
       "    <tr>\n",
       "      <th>3</th>\n",
       "      <td>[no, debate, moderators, under, sorry, tweetde...</td>\n",
       "      <td>0</td>\n",
       "    </tr>\n",
       "    <tr>\n",
       "      <th>4</th>\n",
       "      <td>[current, now, staring, at, black, screen, on,...</td>\n",
       "      <td>0</td>\n",
       "    </tr>\n",
       "  </tbody>\n",
       "</table>\n",
       "</div>"
      ],
      "text/plain": [
       "                                               tweet  label\n",
       "0  [watching, by, myself, tweetdebate, not, drink...      0\n",
       "1  [ahg, michdot, yeah, slime, was, actually, my,...      0\n",
       "2  [preparing, to, have, a, heart, attack, tweetd...      0\n",
       "3  [no, debate, moderators, under, sorry, tweetde...      0\n",
       "4  [current, now, staring, at, black, screen, on,...      0"
      ]
     },
     "execution_count": 24,
     "metadata": {},
     "output_type": "execute_result"
    }
   ],
   "source": [
    "df2['tweet']=df2['tweet'].apply(lambda X: word_tokenize(X))\n",
    "df2.head()"
   ]
  },
  {
   "cell_type": "code",
   "execution_count": 26,
   "id": "295facae",
   "metadata": {},
   "outputs": [
    {
     "data": {
      "text/html": [
       "<div>\n",
       "<style scoped>\n",
       "    .dataframe tbody tr th:only-of-type {\n",
       "        vertical-align: middle;\n",
       "    }\n",
       "\n",
       "    .dataframe tbody tr th {\n",
       "        vertical-align: top;\n",
       "    }\n",
       "\n",
       "    .dataframe thead th {\n",
       "        text-align: right;\n",
       "    }\n",
       "</style>\n",
       "<table border=\"1\" class=\"dataframe\">\n",
       "  <thead>\n",
       "    <tr style=\"text-align: right;\">\n",
       "      <th></th>\n",
       "      <th>tweet</th>\n",
       "      <th>label</th>\n",
       "    </tr>\n",
       "  </thead>\n",
       "  <tbody>\n",
       "    <tr>\n",
       "      <th>0</th>\n",
       "      <td>[watching, by, myself, tweetdebate, not, drink...</td>\n",
       "      <td>0</td>\n",
       "    </tr>\n",
       "    <tr>\n",
       "      <th>1</th>\n",
       "      <td>[ah, microdot, yeah, slime, was, actually, my,...</td>\n",
       "      <td>0</td>\n",
       "    </tr>\n",
       "    <tr>\n",
       "      <th>2</th>\n",
       "      <td>[preparing, to, have, a, heart, attack, tweetd...</td>\n",
       "      <td>0</td>\n",
       "    </tr>\n",
       "    <tr>\n",
       "      <th>3</th>\n",
       "      <td>[no, debate, moderators, under, sorry, tweetde...</td>\n",
       "      <td>0</td>\n",
       "    </tr>\n",
       "    <tr>\n",
       "      <th>4</th>\n",
       "      <td>[current, now, staring, at, black, screen, on,...</td>\n",
       "      <td>0</td>\n",
       "    </tr>\n",
       "  </tbody>\n",
       "</table>\n",
       "</div>"
      ],
      "text/plain": [
       "                                               tweet  label\n",
       "0  [watching, by, myself, tweetdebate, not, drink...      0\n",
       "1  [ah, microdot, yeah, slime, was, actually, my,...      0\n",
       "2  [preparing, to, have, a, heart, attack, tweetd...      0\n",
       "3  [no, debate, moderators, under, sorry, tweetde...      0\n",
       "4  [current, now, staring, at, black, screen, on,...      0"
      ]
     },
     "execution_count": 26,
     "metadata": {},
     "output_type": "execute_result"
    }
   ],
   "source": [
    "df2['tweet']=df2['tweet'].apply(lambda X: spelling(X))\n",
    "df2.head()"
   ]
  },
  {
   "cell_type": "code",
   "execution_count": 30,
   "id": "84b4557e",
   "metadata": {},
   "outputs": [
    {
     "data": {
      "text/html": [
       "<div>\n",
       "<style scoped>\n",
       "    .dataframe tbody tr th:only-of-type {\n",
       "        vertical-align: middle;\n",
       "    }\n",
       "\n",
       "    .dataframe tbody tr th {\n",
       "        vertical-align: top;\n",
       "    }\n",
       "\n",
       "    .dataframe thead th {\n",
       "        text-align: right;\n",
       "    }\n",
       "</style>\n",
       "<table border=\"1\" class=\"dataframe\">\n",
       "  <thead>\n",
       "    <tr style=\"text-align: right;\">\n",
       "      <th></th>\n",
       "      <th>tweet</th>\n",
       "      <th>label</th>\n",
       "    </tr>\n",
       "  </thead>\n",
       "  <tbody>\n",
       "    <tr>\n",
       "      <th>0</th>\n",
       "      <td>[watching, tweetdebate, drinking, waiting, sta...</td>\n",
       "      <td>0</td>\n",
       "    </tr>\n",
       "    <tr>\n",
       "      <th>1</th>\n",
       "      <td>[ah, microdot, yeah, slime, actually, second, ...</td>\n",
       "      <td>0</td>\n",
       "    </tr>\n",
       "    <tr>\n",
       "      <th>2</th>\n",
       "      <td>[preparing, heart, attack, tweetdebate]</td>\n",
       "      <td>0</td>\n",
       "    </tr>\n",
       "    <tr>\n",
       "      <th>3</th>\n",
       "      <td>[debate, moderators, sorry, tweetdebate]</td>\n",
       "      <td>0</td>\n",
       "    </tr>\n",
       "    <tr>\n",
       "      <th>4</th>\n",
       "      <td>[current, staring, black, screen, httpwwwcurre...</td>\n",
       "      <td>0</td>\n",
       "    </tr>\n",
       "  </tbody>\n",
       "</table>\n",
       "</div>"
      ],
      "text/plain": [
       "                                               tweet  label\n",
       "0  [watching, tweetdebate, drinking, waiting, sta...      0\n",
       "1  [ah, microdot, yeah, slime, actually, second, ...      0\n",
       "2            [preparing, heart, attack, tweetdebate]      0\n",
       "3           [debate, moderators, sorry, tweetdebate]      0\n",
       "4  [current, staring, black, screen, httpwwwcurre...      0"
      ]
     },
     "execution_count": 30,
     "metadata": {},
     "output_type": "execute_result"
    }
   ],
   "source": [
    "df2['tweet']=df2['tweet'].apply(lambda X: stopwords_f(X))\n",
    "df2.head()"
   ]
  },
  {
   "cell_type": "code",
   "execution_count": 31,
   "id": "5ecc2abf",
   "metadata": {},
   "outputs": [
    {
     "data": {
      "text/html": [
       "<div>\n",
       "<style scoped>\n",
       "    .dataframe tbody tr th:only-of-type {\n",
       "        vertical-align: middle;\n",
       "    }\n",
       "\n",
       "    .dataframe tbody tr th {\n",
       "        vertical-align: top;\n",
       "    }\n",
       "\n",
       "    .dataframe thead th {\n",
       "        text-align: right;\n",
       "    }\n",
       "</style>\n",
       "<table border=\"1\" class=\"dataframe\">\n",
       "  <thead>\n",
       "    <tr style=\"text-align: right;\">\n",
       "      <th></th>\n",
       "      <th>tweet</th>\n",
       "      <th>label</th>\n",
       "    </tr>\n",
       "  </thead>\n",
       "  <tbody>\n",
       "    <tr>\n",
       "      <th>0</th>\n",
       "      <td>[watching, tweetdebate, drinking, waiting, sta...</td>\n",
       "      <td>0</td>\n",
       "    </tr>\n",
       "    <tr>\n",
       "      <th>1</th>\n",
       "      <td>[ah, microdot, yeah, slime, actually, second, ...</td>\n",
       "      <td>0</td>\n",
       "    </tr>\n",
       "    <tr>\n",
       "      <th>2</th>\n",
       "      <td>[preparing, heart, attack, tweetdebate]</td>\n",
       "      <td>0</td>\n",
       "    </tr>\n",
       "    <tr>\n",
       "      <th>3</th>\n",
       "      <td>[debate, moderator, sorry, tweetdebate]</td>\n",
       "      <td>0</td>\n",
       "    </tr>\n",
       "    <tr>\n",
       "      <th>4</th>\n",
       "      <td>[current, staring, black, screen, httpwwwcurre...</td>\n",
       "      <td>0</td>\n",
       "    </tr>\n",
       "  </tbody>\n",
       "</table>\n",
       "</div>"
      ],
      "text/plain": [
       "                                               tweet  label\n",
       "0  [watching, tweetdebate, drinking, waiting, sta...      0\n",
       "1  [ah, microdot, yeah, slime, actually, second, ...      0\n",
       "2            [preparing, heart, attack, tweetdebate]      0\n",
       "3            [debate, moderator, sorry, tweetdebate]      0\n",
       "4  [current, staring, black, screen, httpwwwcurre...      0"
      ]
     },
     "execution_count": 31,
     "metadata": {},
     "output_type": "execute_result"
    }
   ],
   "source": [
    "df2['tweet']=df2['tweet'].apply(lambda X: lemmatization(X))\n",
    "df2.head()"
   ]
  },
  {
   "cell_type": "code",
   "execution_count": 32,
   "id": "3a4c15db",
   "metadata": {},
   "outputs": [
    {
     "data": {
      "text/html": [
       "<div>\n",
       "<style scoped>\n",
       "    .dataframe tbody tr th:only-of-type {\n",
       "        vertical-align: middle;\n",
       "    }\n",
       "\n",
       "    .dataframe tbody tr th {\n",
       "        vertical-align: top;\n",
       "    }\n",
       "\n",
       "    .dataframe thead th {\n",
       "        text-align: right;\n",
       "    }\n",
       "</style>\n",
       "<table border=\"1\" class=\"dataframe\">\n",
       "  <thead>\n",
       "    <tr style=\"text-align: right;\">\n",
       "      <th></th>\n",
       "      <th>tweet</th>\n",
       "      <th>label</th>\n",
       "    </tr>\n",
       "  </thead>\n",
       "  <tbody>\n",
       "    <tr>\n",
       "      <th>0</th>\n",
       "      <td>watching tweetdebate drinking waiting start cr...</td>\n",
       "      <td>0</td>\n",
       "    </tr>\n",
       "    <tr>\n",
       "      <th>1</th>\n",
       "      <td>ah microdot yeah slime actually second choice ...</td>\n",
       "      <td>0</td>\n",
       "    </tr>\n",
       "    <tr>\n",
       "      <th>2</th>\n",
       "      <td>preparing heart attack tweetdebate</td>\n",
       "      <td>0</td>\n",
       "    </tr>\n",
       "    <tr>\n",
       "      <th>3</th>\n",
       "      <td>debate moderator sorry tweetdebate</td>\n",
       "      <td>0</td>\n",
       "    </tr>\n",
       "    <tr>\n",
       "      <th>4</th>\n",
       "      <td>current staring black screen httpwwwcurrentcom...</td>\n",
       "      <td>0</td>\n",
       "    </tr>\n",
       "  </tbody>\n",
       "</table>\n",
       "</div>"
      ],
      "text/plain": [
       "                                               tweet  label\n",
       "0  watching tweetdebate drinking waiting start cr...      0\n",
       "1  ah microdot yeah slime actually second choice ...      0\n",
       "2                 preparing heart attack tweetdebate      0\n",
       "3                 debate moderator sorry tweetdebate      0\n",
       "4  current staring black screen httpwwwcurrentcom...      0"
      ]
     },
     "execution_count": 32,
     "metadata": {},
     "output_type": "execute_result"
    }
   ],
   "source": [
    "df2['tweet']=df2['tweet'].apply(lambda X: string_maker(X))\n",
    "df2.head()"
   ]
  },
  {
   "cell_type": "code",
   "execution_count": 33,
   "id": "82376a67",
   "metadata": {},
   "outputs": [],
   "source": [
    "vectorizer = TfidfVectorizer()\n",
    "X= vectorizer.fit_transform(df2['tweet'])\n",
    "y = df2['label']"
   ]
  },
  {
   "cell_type": "markdown",
   "id": "0f690179",
   "metadata": {},
   "source": [
    "### Training naive bayes using 10-fold cross validation on OMD"
   ]
  },
  {
   "cell_type": "code",
   "execution_count": 77,
   "id": "44960a2a",
   "metadata": {},
   "outputs": [
    {
     "name": "stdout",
     "output_type": "stream",
     "text": [
      "accuracy: 76.35416666666669\n"
     ]
    }
   ],
   "source": [
    "cross_validation = ShuffleSplit(10, test_size=0.05, random_state=0)\n",
    "\n",
    "clf = MultinomialNB(alpha = 0.4)\n",
    "NB_result = cross_val_score(clf, X, y, cv=cross_validation).mean()\n",
    "\n",
    "print('accuracy:', NB_result.mean()*100)"
   ]
  },
  {
   "cell_type": "markdown",
   "id": "00823e0a",
   "metadata": {},
   "source": [
    "**I got the accuracy of 76.3% on OMD dataset**"
   ]
  }
 ],
 "metadata": {
  "kernelspec": {
   "display_name": "Python 3 (ipykernel)",
   "language": "python",
   "name": "python3"
  },
  "language_info": {
   "codemirror_mode": {
    "name": "ipython",
    "version": 3
   },
   "file_extension": ".py",
   "mimetype": "text/x-python",
   "name": "python",
   "nbconvert_exporter": "python",
   "pygments_lexer": "ipython3",
   "version": "3.8.10"
  }
 },
 "nbformat": 4,
 "nbformat_minor": 5
}
